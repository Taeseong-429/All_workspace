{
 "cells": [
  {
   "cell_type": "code",
   "execution_count": 2,
   "metadata": {},
   "outputs": [
    {
     "name": "stdout",
     "output_type": "stream",
     "text": [
      "1번 학생 : 합격\n",
      "2번 학생 : 불합격\n",
      "3번 학생 : 합격\n",
      "4번 학생 : 불합격\n",
      "5번 학생 : 합격\n"
     ]
    }
   ],
   "source": [
    "marks = [90, 25, 67, 45, 80]\n",
    "number = 0\n",
    "\n",
    "for i in marks :\n",
    "    number += 1\n",
    "    if i > 60 :\n",
    "        print(\"{}번 학생 : 합격\".format(number))\n",
    "        pass\n",
    "    else :\n",
    "        print(\"{}번 학생 : 불합격\".format(number))\n",
    "        pass\n",
    "    pass"
   ]
  },
  {
   "cell_type": "code",
   "execution_count": 5,
   "metadata": {},
   "outputs": [
    {
     "name": "stdout",
     "output_type": "stream",
     "text": [
      "1번 학생 합격\n",
      "2번 학생 불합격\n",
      "3번 학생 합격\n",
      "4번 학생 불합격\n",
      "5번 학생 합격\n"
     ]
    }
   ],
   "source": [
    "mark = {\n",
    "        1:90, \n",
    "        2:25, \n",
    "        3:67, \n",
    "        4:45, \n",
    "        5:80\n",
    "}\n",
    "\n",
    "for i in mark :\n",
    "    if mark[i] > 60:\n",
    "        print('{}번 학생 합격'.format(i))\n",
    "        pass\n",
    "    else :\n",
    "        print('{}번 학생 불합격'.format(i))\n",
    "    pass"
   ]
  },
  {
   "cell_type": "code",
   "execution_count": 1,
   "metadata": {},
   "outputs": [
    {
     "name": "stdout",
     "output_type": "stream",
     "text": [
      "1번 학생 합격입니다.\n",
      "2번 학생 불합격.\n",
      "3번 학생 합격입니다.\n",
      "4번 학생 불합격.\n",
      "5번 학생 합격입니다.\n"
     ]
    }
   ],
   "source": [
    "marks = {\n",
    "    1 : 90,\n",
    "    2 : 25,\n",
    "    3 : 67,\n",
    "    4 : 45, \n",
    "    5 : 80\n",
    "}\n",
    "\n",
    "for i in marks :\n",
    "    if marks[i] > 60 :\n",
    "        print('{}번 학생 합격입니다.'.format(i))\n",
    "        pass\n",
    "    else :\n",
    "        print('{}번 학생 불합격.'.format(i))\n",
    "        pass\n",
    "    pass"
   ]
  },
  {
   "cell_type": "code",
   "execution_count": 2,
   "metadata": {},
   "outputs": [
    {
     "name": "stdout",
     "output_type": "stream",
     "text": [
      "1번 학생 합격입니다.\n",
      "3번 학생 합격입니다.\n",
      "5번 학생 합격입니다.\n"
     ]
    }
   ],
   "source": [
    "marks = [90, 25, 67, 45, 80]\n",
    "number = 0\n",
    "\n",
    "for i in marks :\n",
    "    number += 1\n",
    "    if i > 60 :\n",
    "        print('{}번 학생 합격입니다.'.format(number))\n",
    "        pass\n",
    "    else :\n",
    "        continue\n",
    "        pass\n",
    "    pass"
   ]
  },
  {
   "cell_type": "code",
   "execution_count": 6,
   "metadata": {},
   "outputs": [
    {
     "name": "stdout",
     "output_type": "stream",
     "text": [
      "1번 학생 축하합니다. 합격입니다.\n",
      "3번 학생 축하합니다. 합격입니다.\n",
      "5번 학생 축하합니다. 합격입니다.\n"
     ]
    }
   ],
   "source": [
    "marks = [90, 25, 67, 45, 80]\n",
    "number = 0\n",
    "\n",
    "for i in marks :\n",
    "    number += 1\n",
    "    if i < 60 :\n",
    "        continue\n",
    "        pass\n",
    "    print(f'{number}번 학생 축하합니다. 합격입니다.')\n",
    "    pass"
   ]
  },
  {
   "cell_type": "code",
   "execution_count": 7,
   "metadata": {},
   "outputs": [
    {
     "name": "stdout",
     "output_type": "stream",
     "text": [
      "1번 학생 합격입니다.\n",
      "3번 학생 합격입니다.\n",
      "5번 학생 합격입니다.\n"
     ]
    }
   ],
   "source": [
    "marks = [90, 25, 67, 45, 80]\n",
    "number = 0\n",
    "\n",
    "for i in range(len(marks)) :\n",
    "    number += 1\n",
    "    if marks[i] < 60 :\n",
    "        continue\n",
    "        pass\n",
    "    print(f'{number}번 학생 합격입니다.')\n",
    "    pass"
   ]
  },
  {
   "cell_type": "code",
   "execution_count": 10,
   "metadata": {},
   "outputs": [
    {
     "name": "stdout",
     "output_type": "stream",
     "text": [
      "5050\n"
     ]
    }
   ],
   "source": [
    "add = 0\n",
    "\n",
    "for i in range(1, 101) :\n",
    "    add += i\n",
    "    pass\n",
    "print(add)"
   ]
  },
  {
   "cell_type": "code",
   "execution_count": 15,
   "metadata": {},
   "outputs": [
    {
     "name": "stdout",
     "output_type": "stream",
     "text": [
      "[6, 12]\n"
     ]
    }
   ],
   "source": [
    "a = [1, 2, 3 ,4]\n",
    "result = []\n",
    "\n",
    "for i in a :\n",
    "    if i % 2 == 0 :\n",
    "        result.append(i*3)\n",
    "        pass\n",
    "    pass\n",
    "print(result)"
   ]
  },
  {
   "cell_type": "code",
   "execution_count": 17,
   "metadata": {},
   "outputs": [
    {
     "name": "stdout",
     "output_type": "stream",
     "text": [
      "[6, 12]\n"
     ]
    }
   ],
   "source": [
    "a = [1, 2, 3, 4]\n",
    "result = [num * 3 for num in a if num % 2 == 0]\n",
    "print(result)"
   ]
  },
  {
   "cell_type": "code",
   "execution_count": null,
   "metadata": {},
   "outputs": [],
   "source": []
  }
 ],
 "metadata": {
  "kernelspec": {
   "display_name": "Python 3",
   "language": "python",
   "name": "python3"
  },
  "language_info": {
   "codemirror_mode": {
    "name": "ipython",
    "version": 3
   },
   "file_extension": ".py",
   "mimetype": "text/x-python",
   "name": "python",
   "nbconvert_exporter": "python",
   "pygments_lexer": "ipython3",
   "version": "3.8.0"
  }
 },
 "nbformat": 4,
 "nbformat_minor": 4
}
