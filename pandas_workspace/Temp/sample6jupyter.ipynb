{
 "cells": [
  {
   "cell_type": "code",
   "execution_count": 1,
   "metadata": {},
   "outputs": [
    {
     "name": "stdout",
     "output_type": "stream",
     "text": [
      "<class 'pandas.core.frame.DataFrame'>\n",
      "RangeIndex: 1704 entries, 0 to 1703\n",
      "Data columns (total 6 columns):\n",
      "country      1704 non-null object\n",
      "continent    1704 non-null object\n",
      "year         1704 non-null int64\n",
      "lifeExp      1704 non-null float64\n",
      "pop          1704 non-null int64\n",
      "gdpPercap    1704 non-null float64\n",
      "dtypes: float64(2), int64(2), object(2)\n",
      "memory usage: 80.0+ KB\n"
     ]
    }
   ],
   "source": [
    "import pandas as pd\n",
    "df = pd.read_csv('../doit_pandas/data/gapminder.tsv', sep='\\t')\n",
    "df.info()"
   ]
  },
  {
   "cell_type": "code",
   "execution_count": 2,
   "metadata": {},
   "outputs": [
    {
     "data": {
      "text/plain": [
       "pandas.core.groupby.generic.DataFrameGroupBy"
      ]
     },
     "execution_count": 2,
     "metadata": {},
     "output_type": "execute_result"
    }
   ],
   "source": [
    "df_groupby = df.groupby('year')\n",
    "type(df_groupby) # 그룹바이 된 데이터 프레임이라 표시."
   ]
  },
  {
   "cell_type": "code",
   "execution_count": 3,
   "metadata": {},
   "outputs": [
    {
     "data": {
      "text/plain": [
       "<pandas.core.groupby.generic.DataFrameGroupBy object at 0x00000000076EA640>"
      ]
     },
     "execution_count": 3,
     "metadata": {},
     "output_type": "execute_result"
    }
   ],
   "source": [
    "df_groupby"
   ]
  },
  {
   "cell_type": "code",
   "execution_count": 6,
   "metadata": {},
   "outputs": [
    {
     "data": {
      "text/plain": [
       "<pandas.core.groupby.generic.SeriesGroupBy object at 0x000000000561DEB0>"
      ]
     },
     "execution_count": 6,
     "metadata": {},
     "output_type": "execute_result"
    }
   ],
   "source": [
    "# df_groupby.info() # XXX\n",
    "df_groupby['country']  # 하나의 컬럼을 뽑아냈으니 시리즈 그룹바이 타입이 나옴."
   ]
  },
  {
   "cell_type": "code",
   "execution_count": 8,
   "metadata": {},
   "outputs": [
    {
     "data": {
      "text/plain": [
       "year\n",
       "1952    49.057620\n",
       "1957    51.507401\n",
       "1962    53.609249\n",
       "1967    55.678290\n",
       "1972    57.647386\n",
       "1977    59.570157\n",
       "1982    61.533197\n",
       "1987    63.212613\n",
       "1992    64.160338\n",
       "1997    65.014676\n",
       "2002    65.694923\n",
       "2007    67.007423\n",
       "Name: lifeExp, dtype: float64"
      ]
     },
     "execution_count": 8,
     "metadata": {},
     "output_type": "execute_result"
    }
   ],
   "source": [
    "df_groupby['lifeExp'].mean() # 범주형 변수 Year로 그룹핑했고, 이 행에 대한 기대수명을\n",
    "# 표현했음. --> 연도별 기대수명의 평균\n",
    "# 5년마다 측정/ 기대수명 상승/ 임을 알 수 있음."
   ]
  },
  {
   "cell_type": "code",
   "execution_count": 10,
   "metadata": {},
   "outputs": [
    {
     "data": {
      "text/plain": [
       "pandas.core.series.Series"
      ]
     },
     "execution_count": 10,
     "metadata": {},
     "output_type": "execute_result"
    }
   ],
   "source": [
    "type(df_groupby['lifeExp'].mean()) # 시리즈 데이터를 가지고 평균을 구한 것이 또 하나의\n",
    "# 시리즈다.."
   ]
  },
  {
   "cell_type": "code",
   "execution_count": 11,
   "metadata": {},
   "outputs": [
    {
     "data": {
      "text/plain": [
       "year  country           \n",
       "1952  Afghanistan           28.801\n",
       "      Albania               55.230\n",
       "      Algeria               43.077\n",
       "      Angola                30.015\n",
       "      Argentina             62.485\n",
       "                             ...  \n",
       "2007  Vietnam               74.249\n",
       "      West Bank and Gaza    73.422\n",
       "      Yemen, Rep.           62.698\n",
       "      Zambia                42.384\n",
       "      Zimbabwe              43.487\n",
       "Name: lifeExp, Length: 1704, dtype: float64"
      ]
     },
     "execution_count": 11,
     "metadata": {},
     "output_type": "execute_result"
    }
   ],
   "source": [
    "df_groupby = df.groupby( ['year', 'country'] ) # 연도별, 국가별 세분화\n",
    "df_groupby['lifeExp'].mean() # 범주 두개 (연도별, 국가별)로 기대수명 평균구하기.\n",
    "# 너무 많아서 생략되어 표현됨.\n",
    "# 위에 1952년도 기대수명은 49년이었는데, 국가별로 보니 편차가 큼."
   ]
  },
  {
   "cell_type": "code",
   "execution_count": 12,
   "metadata": {},
   "outputs": [
    {
     "name": "stdout",
     "output_type": "stream",
     "text": [
      "<class 'pandas.core.frame.DataFrame'>\n",
      "RangeIndex: 1704 entries, 0 to 1703\n",
      "Data columns (total 6 columns):\n",
      "country      1704 non-null object\n",
      "continent    1704 non-null object\n",
      "year         1704 non-null int64\n",
      "lifeExp      1704 non-null float64\n",
      "pop          1704 non-null int64\n",
      "gdpPercap    1704 non-null float64\n",
      "dtypes: float64(2), int64(2), object(2)\n",
      "memory usage: 80.0+ KB\n"
     ]
    }
   ],
   "source": [
    "# 연도별/대륙별/국가별/평균 기대수명\n",
    "df.info()"
   ]
  },
  {
   "cell_type": "code",
   "execution_count": 13,
   "metadata": {},
   "outputs": [
    {
     "data": {
      "text/plain": [
       "year  continent  country       \n",
       "1952  Africa     Algeria           43.077\n",
       "                 Angola            30.015\n",
       "                 Benin             38.223\n",
       "                 Botswana          47.622\n",
       "                 Burkina Faso      31.975\n",
       "                                    ...  \n",
       "2007  Europe     Switzerland       81.701\n",
       "                 Turkey            71.777\n",
       "                 United Kingdom    79.425\n",
       "      Oceania    Australia         81.235\n",
       "                 New Zealand       80.204\n",
       "Name: lifeExp, Length: 1704, dtype: float64"
      ]
     },
     "execution_count": 13,
     "metadata": {},
     "output_type": "execute_result"
    }
   ],
   "source": [
    "dff_groupby = df.groupby([ 'year', 'continent', 'country'])\n",
    "dff_groupby['lifeExp'].mean()"
   ]
  },
  {
   "cell_type": "code",
   "execution_count": 29,
   "metadata": {},
   "outputs": [
    {
     "data": {
      "text/plain": [
       "year  country           \n",
       "1952  Afghanistan            779.445314\n",
       "      Albania               1601.056136\n",
       "      Algeria               2449.008185\n",
       "      Angola                3520.610273\n",
       "      Argentina             5911.315053\n",
       "                               ...     \n",
       "2007  Vietnam               2441.576404\n",
       "      West Bank and Gaza    3025.349798\n",
       "      Yemen, Rep.           2280.769906\n",
       "      Zambia                1271.211593\n",
       "      Zimbabwe               469.709298\n",
       "Name: gdpPercap, Length: 1704, dtype: float64"
      ]
     },
     "execution_count": 29,
     "metadata": {},
     "output_type": "execute_result"
    }
   ],
   "source": [
    "dff_groupby = df.groupby([ 'year', 'continent'])\n",
    "groupby_mean = df_groupby['gdpPercap'].mean()\n",
    "type(groupby_mean)\n",
    "groupby_mean\n",
    "# dff_groupby['gdpPercap'].mean()\n",
    "\n",
    "# dff_groupby = df.groupby(['year', 'continent'])['gdpPercap'].mean() # 이거 왜 안되나"
   ]
  },
  {
   "cell_type": "code",
   "execution_count": null,
   "metadata": {},
   "outputs": [],
   "source": [
    "df_groupby = df.groupby([ 'year', 'continent'])\n",
    "groupby_mean = df_groupby['gdpPercap', 'pop', 'lifeExp'].mean()\n",
    "groupby_mean # 밑에처럼 하나의 컬럼에 대한 집계뿐 아니라 복수 컬럼 집계도 가능.\n",
    "# 데이터 프레임임! \n",
    "# 이건 기본통계량임 ! 대부분 집계 데이터를 구하는 걸 시작으로 이제 고급통계를 진행함\n",
    "# 우리가 지금 다루는 데이터는 정형데이터임."
   ]
  },
  {
   "cell_type": "code",
   "execution_count": 36,
   "metadata": {},
   "outputs": [
    {
     "data": {
      "text/plain": [
       "year  continent\n",
       "1952  Africa        237640501\n",
       "      Americas      345152446\n",
       "      Asia         1395357351\n",
       "      Europe        418120846\n",
       "      Oceania        10686006\n",
       "1957  Africa        264837738\n",
       "      Americas      386953916\n",
       "      Asia         1562780599\n",
       "      Europe        437890351\n",
       "      Oceania        11941976\n",
       "1962  Africa        296516865\n",
       "      Americas      433270254\n",
       "      Asia         1696357182\n",
       "      Europe        460355155\n",
       "      Oceania        13283518\n",
       "1967  Africa        335289489\n",
       "      Americas      480746623\n",
       "      Asia         1905662900\n",
       "      Europe        481178958\n",
       "      Oceania        14600414\n",
       "1972  Africa        379879541\n",
       "      Americas      529384210\n",
       "      Asia         2150972248\n",
       "      Europe        500635059\n",
       "      Oceania        16106100\n",
       "1977  Africa        433061021\n",
       "      Americas      578067699\n",
       "      Asia         2384513556\n",
       "      Europe        517164531\n",
       "      Oceania        17239000\n",
       "1982  Africa        499348587\n",
       "      Americas      630290920\n",
       "      Asia         2610135582\n",
       "      Europe        531266901\n",
       "      Oceania        18394850\n",
       "1987  Africa        574834110\n",
       "      Americas      682753971\n",
       "      Asia         2871220762\n",
       "      Europe        543094160\n",
       "      Oceania        19574415\n",
       "1992  Africa        659081517\n",
       "      Americas      739274104\n",
       "      Asia         3133292191\n",
       "      Europe        558142797\n",
       "      Oceania        20919651\n",
       "1997  Africa        743832984\n",
       "      Americas      796900410\n",
       "      Asia         3383285500\n",
       "      Europe        568944148\n",
       "      Oceania        22241430\n",
       "2002  Africa        833723916\n",
       "      Americas      849772762\n",
       "      Asia         3601802203\n",
       "      Europe        578223869\n",
       "      Oceania        23454829\n",
       "2007  Africa        929539692\n",
       "      Americas      898871184\n",
       "      Asia         3811953827\n",
       "      Europe        586098529\n",
       "      Oceania        24549947\n",
       "Name: pop, dtype: int64"
      ]
     },
     "execution_count": 36,
     "metadata": {},
     "output_type": "execute_result"
    }
   ],
   "source": [
    "# df_groupby['continent'].nunique()\n",
    "df_groupby['pop'].sum() # 위에 연도별, 대륙별로 그룹핑 된 총 인구수 합\n",
    "# df_groupby['lifeExp'].mean()"
   ]
  },
  {
   "cell_type": "code",
   "execution_count": 40,
   "metadata": {},
   "outputs": [
    {
     "data": {
      "text/plain": [
       "year  continent\n",
       "1952  Africa       0.353055\n",
       "      Americas     0.041592\n",
       "      Asia         0.371857\n",
       "      Europe      -1.301327\n",
       "      Oceania           NaN\n",
       "1957  Africa       0.609589\n",
       "      Americas    -0.113827\n",
       "      Asia         0.221384\n",
       "      Europe      -1.616472\n",
       "      Oceania           NaN\n",
       "1962  Africa       0.548373\n",
       "      Americas    -0.263315\n",
       "      Asia         0.193576\n",
       "      Europe      -2.061686\n",
       "      Oceania           NaN\n",
       "1967  Africa       0.452515\n",
       "      Americas    -0.379239\n",
       "      Asia        -0.037674\n",
       "      Europe      -2.375166\n",
       "      Oceania           NaN\n",
       "1972  Africa       0.396076\n",
       "      Americas    -0.531152\n",
       "      Asia        -0.310530\n",
       "      Europe      -2.651453\n",
       "      Oceania           NaN\n",
       "1977  Africa       0.347936\n",
       "      Americas    -0.535250\n",
       "      Asia        -0.883355\n",
       "      Europe      -2.080834\n",
       "      Oceania           NaN\n",
       "1982  Africa       0.335071\n",
       "      Americas    -0.601443\n",
       "      Asia        -0.581983\n",
       "      Europe      -1.623181\n",
       "      Oceania           NaN\n",
       "1987  Africa       0.356127\n",
       "      Americas    -0.718427\n",
       "      Asia        -0.801144\n",
       "      Europe      -1.276566\n",
       "      Oceania           NaN\n",
       "1992  Africa      -0.311996\n",
       "      Americas    -0.931959\n",
       "      Asia        -0.912758\n",
       "      Europe      -0.741223\n",
       "      Oceania           NaN\n",
       "1997  Africa       0.491720\n",
       "      Americas    -1.096875\n",
       "      Asia        -1.029771\n",
       "      Europe      -0.606263\n",
       "      Oceania           NaN\n",
       "2002  Africa       0.772096\n",
       "      Americas    -1.036350\n",
       "      Asia        -1.059696\n",
       "      Europe      -0.495105\n",
       "      Oceania           NaN\n",
       "2007  Africa       0.650966\n",
       "      Americas    -0.893389\n",
       "      Asia        -1.172160\n",
       "      Europe      -0.480483\n",
       "      Oceania           NaN\n",
       "Name: lifeExp, dtype: float64"
      ]
     },
     "execution_count": 40,
     "metadata": {},
     "output_type": "execute_result"
    }
   ],
   "source": [
    "type(df_groupby['lifeExp' ] ) # \n",
    "# df_groupby['lifeExp'].quantile() # mean() 등등 다 되는데\n",
    "# df_groupby['lifeExp'].kurtosis() # 는 안됨\n",
    "# groupby 된 메소드중에서 kurtosis는 안됨\n",
    "df_groupby['lifeExp'].skew() # 는 됨 ! "
   ]
  },
  {
   "cell_type": "code",
   "execution_count": null,
   "metadata": {},
   "outputs": [],
   "source": []
  }
 ],
 "metadata": {
  "kernelspec": {
   "display_name": "Python 3",
   "language": "python",
   "name": "python3"
  },
  "language_info": {
   "codemirror_mode": {
    "name": "ipython",
    "version": 3
   },
   "file_extension": ".py",
   "mimetype": "text/x-python",
   "name": "python",
   "nbconvert_exporter": "python",
   "pygments_lexer": "ipython3",
   "version": "3.8.0"
  }
 },
 "nbformat": 4,
 "nbformat_minor": 4
}
