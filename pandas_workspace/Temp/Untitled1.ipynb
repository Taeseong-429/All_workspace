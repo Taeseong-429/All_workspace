{
 "cells": [
  {
   "cell_type": "code",
   "execution_count": 2,
   "metadata": {},
   "outputs": [
    {
     "name": "stdout",
     "output_type": "stream",
     "text": [
      "<class 'pandas.core.frame.DataFrame'>\n",
      "RangeIndex: 1704 entries, 0 to 1703\n",
      "Data columns (total 6 columns):\n",
      "country      1704 non-null object\n",
      "continent    1704 non-null object\n",
      "year         1704 non-null int64\n",
      "lifeExp      1704 non-null float64\n",
      "pop          1704 non-null int64\n",
      "gdpPercap    1704 non-null float64\n",
      "dtypes: float64(2), int64(2), object(2)\n",
      "memory usage: 80.0+ KB\n"
     ]
    }
   ],
   "source": [
    "import pandas as pd\n",
    "df_gapminder = pd.read_csv('../doit_pandas/data/gapminder.tsv', sep='\\t')\n",
    "df_gapminder.info()"
   ]
  },
  {
   "cell_type": "code",
   "execution_count": 10,
   "metadata": {},
   "outputs": [],
   "source": [
    "df_lifeEXP_mean = df_gapminder.groupby(['year', 'continent', 'country'])[['lifeExp']].mean()"
   ]
  },
  {
   "cell_type": "code",
   "execution_count": 4,
   "metadata": {},
   "outputs": [
    {
     "name": "stdout",
     "output_type": "stream",
     "text": [
      "                               lifeExp\n",
      "year continent country                \n",
      "1952 Africa    Algeria          43.077\n",
      "               Angola           30.015\n",
      "               Benin            38.223\n",
      "               Botswana         47.622\n",
      "               Burkina Faso     31.975\n",
      "...                                ...\n",
      "2007 Europe    Switzerland      81.701\n",
      "               Turkey           71.777\n",
      "               United Kingdom   79.425\n",
      "     Oceania   Australia        81.235\n",
      "               New Zealand      80.204\n",
      "\n",
      "[1704 rows x 1 columns]\n"
     ]
    }
   ],
   "source": [
    "print(df_lifeEXP_mean)"
   ]
  },
  {
   "cell_type": "code",
   "execution_count": 6,
   "metadata": {},
   "outputs": [
    {
     "name": "stdout",
     "output_type": "stream",
     "text": [
      "year  continent  country       \n",
      "1952  Africa     Algeria           43.077\n",
      "                 Angola            30.015\n",
      "                 Benin             38.223\n",
      "                 Botswana          47.622\n",
      "                 Burkina Faso      31.975\n",
      "                                    ...  \n",
      "2007  Europe     Switzerland       81.701\n",
      "                 Turkey            71.777\n",
      "                 United Kingdom    79.425\n",
      "      Oceania    Australia         81.235\n",
      "                 New Zealand       80.204\n",
      "Name: lifeExp, Length: 1704, dtype: float64\n"
     ]
    }
   ],
   "source": [
    "# 1. 연도별/대륙별/국가별 그룹 데이터 생성\n",
    "df_groupby = df_gapminder.groupby(['year', 'continent', 'country'])\n",
    "# 2. 그룹 데이터 구성컬럼 중, 기대수명(lifeExp) 열의 평균 산출\n",
    "groupby_mean = df_groupby.lifeExp.mean()\n",
    "# 3. 연도별/대륙별/국가별 기대수명 평균 출력\n",
    "print(groupby_mean)"
   ]
  },
  {
   "cell_type": "code",
   "execution_count": null,
   "metadata": {},
   "outputs": [],
   "source": []
  }
 ],
 "metadata": {
  "kernelspec": {
   "display_name": "Python 3",
   "language": "python",
   "name": "python3"
  },
  "language_info": {
   "codemirror_mode": {
    "name": "ipython",
    "version": 3
   },
   "file_extension": ".py",
   "mimetype": "text/x-python",
   "name": "python",
   "nbconvert_exporter": "python",
   "pygments_lexer": "ipython3",
   "version": "3.8.0"
  }
 },
 "nbformat": 4,
 "nbformat_minor": 4
}
