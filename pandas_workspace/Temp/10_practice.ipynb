{
 "cells": [
  {
   "cell_type": "markdown",
   "metadata": {},
   "source": [
    "# 직접 해보세요!\n",
    "## 제곱 함수와 n 제곱 함수 만들기(202쪽)"
   ]
  },
  {
   "cell_type": "code",
   "execution_count": 2,
   "metadata": {},
   "outputs": [],
   "source": [
    "def my_sq(x):\n",
    "    print(x, ',', type(x))\n",
    "    return x ** 2"
   ]
  },
  {
   "cell_type": "code",
   "execution_count": 3,
   "metadata": {},
   "outputs": [],
   "source": [
    "def my_exp(x,n):\n",
    "    print('-' * 40)\n",
    "    print(x, ',', type(x))\n",
    "    print(n, ',', type(n))\n",
    "    return x ** n"
   ]
  },
  {
   "cell_type": "code",
   "execution_count": 4,
   "metadata": {},
   "outputs": [
    {
     "name": "stdout",
     "output_type": "stream",
     "text": [
      "3 , <class 'int'>\n",
      "9\n"
     ]
    }
   ],
   "source": [
    "print(my_sq(3))"
   ]
  },
  {
   "cell_type": "code",
   "execution_count": 5,
   "metadata": {},
   "outputs": [
    {
     "name": "stdout",
     "output_type": "stream",
     "text": [
      "----------------------------------------\n",
      "2 , <class 'int'>\n",
      "4 , <class 'int'>\n",
      "16\n"
     ]
    }
   ],
   "source": [
    "print(my_exp(2,4))"
   ]
  },
  {
   "cell_type": "markdown",
   "metadata": {},
   "source": [
    "# 직접 해보세요!\n",
    "## 시리즈와 데이터프레임에 apply 메서드 사용하기(203쪽)"
   ]
  },
  {
   "cell_type": "markdown",
   "metadata": {},
   "source": [
    "### 1. 시리즈와 apply 메서드"
   ]
  },
  {
   "cell_type": "code",
   "execution_count": 6,
   "metadata": {},
   "outputs": [
    {
     "name": "stdout",
     "output_type": "stream",
     "text": [
      "    a   b\n",
      "0  10  20\n",
      "1  20  30\n",
      "2  30  40\n"
     ]
    }
   ],
   "source": [
    "import pandas as pd\n",
    "\n",
    "df = pd.DataFrame({\n",
    "    'a': [10, 20, 30], \n",
    "    'b': [20, 30, 40]\n",
    "}) \n",
    "\n",
    "print(df) # DataFrame 만들땐 dict 객체로 만들 수 있다."
   ]
  },
  {
   "cell_type": "code",
   "execution_count": 7,
   "metadata": {},
   "outputs": [
    {
     "name": "stdout",
     "output_type": "stream",
     "text": [
      "0     10000\n",
      "1    160000\n",
      "2    810000\n",
      "Name: a, dtype: int64\n"
     ]
    }
   ],
   "source": [
    "print(df['a'] ** 4)  # 이게 벡터연산(broadcasting) # 시리즈만 뽑아서 벡터연산 ~!"
   ]
  },
  {
   "cell_type": "code",
   "execution_count": 8,
   "metadata": {},
   "outputs": [
    {
     "name": "stdout",
     "output_type": "stream",
     "text": [
      "10 , <class 'int'>\n",
      "20 , <class 'int'>\n",
      "30 , <class 'int'>\n",
      "0    100\n",
      "1    400\n",
      "2    900\n",
      "Name: a, dtype: int64\n"
     ]
    }
   ],
   "source": [
    "sq = df['a'].apply(my_sq) # 시리즈가 갖고 있는 값 10, 20, 30이 my_sq의 매개변수로 들어간다 ! \n",
    "# 과정도 함께 표시\n",
    "print(sq) "
   ]
  },
  {
   "cell_type": "code",
   "execution_count": 9,
   "metadata": {},
   "outputs": [
    {
     "name": "stdout",
     "output_type": "stream",
     "text": [
      "----------------------------------------\n",
      "10 , <class 'int'>\n",
      "2 , <class 'int'>\n",
      "----------------------------------------\n",
      "20 , <class 'int'>\n",
      "2 , <class 'int'>\n",
      "----------------------------------------\n",
      "30 , <class 'int'>\n",
      "2 , <class 'int'>\n",
      "0    100\n",
      "1    400\n",
      "2    900\n",
      "Name: a, dtype: int64\n"
     ]
    }
   ],
   "source": [
    "ex = df['a'].apply(my_exp, n=2) # a라는 컬럼이 갖고있는 10, 20, 30이 각각 들어오고, n 도 각각 들어옴.\n",
    "# 이렇게 브로드캐스팅 되는 함수 이걸 map라 하고 작업을 mapping 한다 라고 함.\n",
    "print(ex)"
   ]
  },
  {
   "cell_type": "markdown",
   "metadata": {},
   "source": [
    "### 5. 데이터 프레임과 apply 메서드"
   ]
  },
  {
   "cell_type": "code",
   "execution_count": 10,
   "metadata": {},
   "outputs": [
    {
     "name": "stdout",
     "output_type": "stream",
     "text": [
      "    a   b\n",
      "0  10  20\n",
      "1  20  30\n",
      "2  30  40\n"
     ]
    }
   ],
   "source": [
    "df = pd.DataFrame({\n",
    "    'a': [10, 20, 30], \n",
    "    'b': [20, 30, 40]\n",
    "})\n",
    "\n",
    "print(df)"
   ]
  },
  {
   "cell_type": "code",
   "execution_count": 19,
   "metadata": {},
   "outputs": [],
   "source": [
    "def print_me(x): \n",
    "    print('-'*40)\n",
    "    print(type(x), ',', x.shape)\n",
    "    \n",
    "    print(x)"
   ]
  },
  {
   "cell_type": "code",
   "execution_count": 25,
   "metadata": {},
   "outputs": [
    {
     "name": "stdout",
     "output_type": "stream",
     "text": [
      "----------------------------------------\n",
      "<class 'pandas.core.series.Series'> , (3,)\n",
      "0    10\n",
      "1    20\n",
      "2    30\n",
      "Name: a, dtype: int64\n",
      "----------------------------------------\n",
      "<class 'pandas.core.series.Series'> , (3,)\n",
      "0    20\n",
      "1    30\n",
      "2    40\n",
      "Name: b, dtype: int64\n"
     ]
    },
    {
     "data": {
      "text/plain": [
       "a    None\n",
       "b    None\n",
       "dtype: object"
      ]
     },
     "execution_count": 25,
     "metadata": {},
     "output_type": "execute_result"
    }
   ],
   "source": [
    "df.apply(print_me) # 데이터프레임에 이렇게 apply 연산 수행 !\n",
    "# 데이터 프레임에 apply를 적용하면, 브로드캐스팅 연산에 사용되는 매개변수는 시리즈로 전달됨 ! !\n",
    "# 시리즈 계산할땐, 데이터로 들어가지만, 데이터 프레임 계산할 때 매개변수는 이를 구성하는 시리즈가 통째로 전달됨..!"
   ]
  },
  {
   "cell_type": "code",
   "execution_count": 13,
   "metadata": {},
   "outputs": [
    {
     "name": "stdout",
     "output_type": "stream",
     "text": [
      "----------------------------------------\n",
      "<class 'pandas.core.series.Series'> , (3,)\n",
      "0    10\n",
      "1    20\n",
      "2    30\n",
      "Name: a, dtype: int64\n",
      "----------------------------------------\n",
      "<class 'pandas.core.series.Series'> , (3,)\n",
      "0    20\n",
      "1    30\n",
      "2    40\n",
      "Name: b, dtype: int64\n",
      "a    None\n",
      "b    None\n",
      "dtype: object\n"
     ]
    }
   ],
   "source": [
    "print(df.apply(print_me, axis=0)) # if axis = 0 (Y축), 각 컬럼이 전달"
   ]
  },
  {
   "cell_type": "code",
   "execution_count": 14,
   "metadata": {},
   "outputs": [
    {
     "name": "stdout",
     "output_type": "stream",
     "text": [
      "----------------------------------------\n",
      "<class 'pandas.core.series.Series'> , (2,)\n",
      "a    10\n",
      "b    20\n",
      "Name: 0, dtype: int64\n",
      "----------------------------------------\n",
      "<class 'pandas.core.series.Series'> , (2,)\n",
      "a    20\n",
      "b    30\n",
      "Name: 1, dtype: int64\n",
      "----------------------------------------\n",
      "<class 'pandas.core.series.Series'> , (2,)\n",
      "a    30\n",
      "b    40\n",
      "Name: 2, dtype: int64\n",
      "0    None\n",
      "1    None\n",
      "2    None\n",
      "dtype: object\n"
     ]
    }
   ],
   "source": [
    "print(df.apply(print_me, axis=1)) # if axis = 1 (X축), 각 행 전달. 타입 시리즈로 나옴."
   ]
  },
  {
   "cell_type": "code",
   "execution_count": 15,
   "metadata": {},
   "outputs": [],
   "source": [
    "def avg_3(x, y, z):\n",
    "    print('-'*40)\n",
    "    print('- x:\\n', x)\n",
    "    print('- y:', y)\n",
    "    print('- z:', z)\n",
    "    \n",
    "    return (x + y + z) / 3"
   ]
  },
  {
   "cell_type": "code",
   "execution_count": 16,
   "metadata": {
    "scrolled": true
   },
   "outputs": [
    {
     "ename": "TypeError",
     "evalue": "(\"avg_3() missing 2 required positional arguments: 'y' and 'z'\", 'occurred at index a')",
     "output_type": "error",
     "traceback": [
      "\u001b[1;31m---------------------------------------------------------------------------\u001b[0m",
      "\u001b[1;31mTypeError\u001b[0m                                 Traceback (most recent call last)",
      "\u001b[1;32m<ipython-input-16-4da2f56948e8>\u001b[0m in \u001b[0;36m<module>\u001b[1;34m\u001b[0m\n\u001b[1;32m----> 1\u001b[1;33m \u001b[0mprint\u001b[0m\u001b[1;33m(\u001b[0m\u001b[0mdf\u001b[0m\u001b[1;33m.\u001b[0m\u001b[0mapply\u001b[0m\u001b[1;33m(\u001b[0m\u001b[0mavg_3\u001b[0m\u001b[1;33m)\u001b[0m\u001b[1;33m)\u001b[0m \u001b[1;31m# 오류났음. 데이터 프레임은 한개의 컬럼씩(시리즈) 매개변수로 들어오는데,\u001b[0m\u001b[1;33m\u001b[0m\u001b[1;33m\u001b[0m\u001b[0m\n\u001b[0m\u001b[0;32m      2\u001b[0m \u001b[1;31m# 여긴 3개 들어와야함. 그래서 오류. 이 아랫줄에 해결방법.\u001b[0m\u001b[1;33m\u001b[0m\u001b[1;33m\u001b[0m\u001b[1;33m\u001b[0m\u001b[0m\n",
      "\u001b[1;32mc:\\app\\lib\\site-packages\\pandas\\core\\frame.py\u001b[0m in \u001b[0;36mapply\u001b[1;34m(self, func, axis, broadcast, raw, reduce, result_type, args, **kwds)\u001b[0m\n\u001b[0;32m   6926\u001b[0m             \u001b[0mkwds\u001b[0m\u001b[1;33m=\u001b[0m\u001b[0mkwds\u001b[0m\u001b[1;33m,\u001b[0m\u001b[1;33m\u001b[0m\u001b[1;33m\u001b[0m\u001b[0m\n\u001b[0;32m   6927\u001b[0m         )\n\u001b[1;32m-> 6928\u001b[1;33m         \u001b[1;32mreturn\u001b[0m \u001b[0mop\u001b[0m\u001b[1;33m.\u001b[0m\u001b[0mget_result\u001b[0m\u001b[1;33m(\u001b[0m\u001b[1;33m)\u001b[0m\u001b[1;33m\u001b[0m\u001b[1;33m\u001b[0m\u001b[0m\n\u001b[0m\u001b[0;32m   6929\u001b[0m \u001b[1;33m\u001b[0m\u001b[0m\n\u001b[0;32m   6930\u001b[0m     \u001b[1;32mdef\u001b[0m \u001b[0mapplymap\u001b[0m\u001b[1;33m(\u001b[0m\u001b[0mself\u001b[0m\u001b[1;33m,\u001b[0m \u001b[0mfunc\u001b[0m\u001b[1;33m)\u001b[0m\u001b[1;33m:\u001b[0m\u001b[1;33m\u001b[0m\u001b[1;33m\u001b[0m\u001b[0m\n",
      "\u001b[1;32mc:\\app\\lib\\site-packages\\pandas\\core\\apply.py\u001b[0m in \u001b[0;36mget_result\u001b[1;34m(self)\u001b[0m\n\u001b[0;32m    184\u001b[0m             \u001b[1;32mreturn\u001b[0m \u001b[0mself\u001b[0m\u001b[1;33m.\u001b[0m\u001b[0mapply_raw\u001b[0m\u001b[1;33m(\u001b[0m\u001b[1;33m)\u001b[0m\u001b[1;33m\u001b[0m\u001b[1;33m\u001b[0m\u001b[0m\n\u001b[0;32m    185\u001b[0m \u001b[1;33m\u001b[0m\u001b[0m\n\u001b[1;32m--> 186\u001b[1;33m         \u001b[1;32mreturn\u001b[0m \u001b[0mself\u001b[0m\u001b[1;33m.\u001b[0m\u001b[0mapply_standard\u001b[0m\u001b[1;33m(\u001b[0m\u001b[1;33m)\u001b[0m\u001b[1;33m\u001b[0m\u001b[1;33m\u001b[0m\u001b[0m\n\u001b[0m\u001b[0;32m    187\u001b[0m \u001b[1;33m\u001b[0m\u001b[0m\n\u001b[0;32m    188\u001b[0m     \u001b[1;32mdef\u001b[0m \u001b[0mapply_empty_result\u001b[0m\u001b[1;33m(\u001b[0m\u001b[0mself\u001b[0m\u001b[1;33m)\u001b[0m\u001b[1;33m:\u001b[0m\u001b[1;33m\u001b[0m\u001b[1;33m\u001b[0m\u001b[0m\n",
      "\u001b[1;32mc:\\app\\lib\\site-packages\\pandas\\core\\apply.py\u001b[0m in \u001b[0;36mapply_standard\u001b[1;34m(self)\u001b[0m\n\u001b[0;32m    290\u001b[0m \u001b[1;33m\u001b[0m\u001b[0m\n\u001b[0;32m    291\u001b[0m         \u001b[1;31m# compute the result using the series generator\u001b[0m\u001b[1;33m\u001b[0m\u001b[1;33m\u001b[0m\u001b[1;33m\u001b[0m\u001b[0m\n\u001b[1;32m--> 292\u001b[1;33m         \u001b[0mself\u001b[0m\u001b[1;33m.\u001b[0m\u001b[0mapply_series_generator\u001b[0m\u001b[1;33m(\u001b[0m\u001b[1;33m)\u001b[0m\u001b[1;33m\u001b[0m\u001b[1;33m\u001b[0m\u001b[0m\n\u001b[0m\u001b[0;32m    293\u001b[0m \u001b[1;33m\u001b[0m\u001b[0m\n\u001b[0;32m    294\u001b[0m         \u001b[1;31m# wrap results\u001b[0m\u001b[1;33m\u001b[0m\u001b[1;33m\u001b[0m\u001b[1;33m\u001b[0m\u001b[0m\n",
      "\u001b[1;32mc:\\app\\lib\\site-packages\\pandas\\core\\apply.py\u001b[0m in \u001b[0;36mapply_series_generator\u001b[1;34m(self)\u001b[0m\n\u001b[0;32m    319\u001b[0m             \u001b[1;32mtry\u001b[0m\u001b[1;33m:\u001b[0m\u001b[1;33m\u001b[0m\u001b[1;33m\u001b[0m\u001b[0m\n\u001b[0;32m    320\u001b[0m                 \u001b[1;32mfor\u001b[0m \u001b[0mi\u001b[0m\u001b[1;33m,\u001b[0m \u001b[0mv\u001b[0m \u001b[1;32min\u001b[0m \u001b[0menumerate\u001b[0m\u001b[1;33m(\u001b[0m\u001b[0mseries_gen\u001b[0m\u001b[1;33m)\u001b[0m\u001b[1;33m:\u001b[0m\u001b[1;33m\u001b[0m\u001b[1;33m\u001b[0m\u001b[0m\n\u001b[1;32m--> 321\u001b[1;33m                     \u001b[0mresults\u001b[0m\u001b[1;33m[\u001b[0m\u001b[0mi\u001b[0m\u001b[1;33m]\u001b[0m \u001b[1;33m=\u001b[0m \u001b[0mself\u001b[0m\u001b[1;33m.\u001b[0m\u001b[0mf\u001b[0m\u001b[1;33m(\u001b[0m\u001b[0mv\u001b[0m\u001b[1;33m)\u001b[0m\u001b[1;33m\u001b[0m\u001b[1;33m\u001b[0m\u001b[0m\n\u001b[0m\u001b[0;32m    322\u001b[0m                     \u001b[0mkeys\u001b[0m\u001b[1;33m.\u001b[0m\u001b[0mappend\u001b[0m\u001b[1;33m(\u001b[0m\u001b[0mv\u001b[0m\u001b[1;33m.\u001b[0m\u001b[0mname\u001b[0m\u001b[1;33m)\u001b[0m\u001b[1;33m\u001b[0m\u001b[1;33m\u001b[0m\u001b[0m\n\u001b[0;32m    323\u001b[0m             \u001b[1;32mexcept\u001b[0m \u001b[0mException\u001b[0m \u001b[1;32mas\u001b[0m \u001b[0me\u001b[0m\u001b[1;33m:\u001b[0m\u001b[1;33m\u001b[0m\u001b[1;33m\u001b[0m\u001b[0m\n",
      "\u001b[1;31mTypeError\u001b[0m: (\"avg_3() missing 2 required positional arguments: 'y' and 'z'\", 'occurred at index a')"
     ]
    }
   ],
   "source": [
    "print(df.apply(avg_3)) # 오류났음. 데이터 프레임은 한개의 컬럼씩(시리즈) 매개변수로 들어오는데, \n",
    "# 여긴 3개 들어와야함. 그래서 오류. 이 아랫줄에 해결방법."
   ]
  },
  {
   "cell_type": "code",
   "execution_count": null,
   "metadata": {},
   "outputs": [],
   "source": [
    "print(df)\n",
    "df.apply(avg_3, y = 1 , z = 5)\n",
    "# df.apply(avg_3, y = 1 , z = 5)\n",
    "\n",
    "# 왜 a는 두번 들어가는지 ?"
   ]
  },
  {
   "cell_type": "code",
   "execution_count": 17,
   "metadata": {},
   "outputs": [
    {
     "name": "stdout",
     "output_type": "stream",
     "text": [
      "----------------------------------------\n",
      "\t + avg_3_apply invoked. col : <class 'pandas.core.series.Series'>\n",
      "----------------------------------------\n",
      "\t+ x: 10, y: 20, z: 30, avg: 20.0\n",
      "----------------------------------------\n",
      "\t + avg_3_apply invoked. col : <class 'pandas.core.series.Series'>\n",
      "----------------------------------------\n",
      "\t+ x: 20, y: 30, z: 40, avg: 30.0\n",
      "----------------------------------------\n",
      "<class 'pandas.core.series.Series'>\n",
      "----------------------------------------\n",
      "a    20.0\n",
      "b    30.0\n",
      "dtype: float64\n"
     ]
    }
   ],
   "source": [
    "df # 데이터가 어떻게 생긴지 안 다음 진행.\n",
    "\n",
    "def avg_3_apply(col): # 각 컬럼대로 전달해서 수행 결과 나오게 ! # 시리즈가 들어올 것으로 예상.\n",
    "    print('-'*40)\n",
    "    print('\\t + avg_3_apply invoked. col : {}'.format(type(col)))\n",
    "    print('-'*40)\n",
    "    \n",
    "    x = col[0] \n",
    "    y = col[1] \n",
    "    z = col[2] \n",
    "    \n",
    "    avg = (x + y + z) / 3\n",
    "        \n",
    "    print('\\t+ x: {}, y: {}, z: {}, avg: {}'.format(x, y, z, avg))\n",
    "    \n",
    "   \n",
    "    \n",
    "    return avg\n",
    "\n",
    "result = df.apply(avg_3_apply)\n",
    "\n",
    "print('-'*40)\n",
    "print(type(result)) # 반환시켜준 데이터 타입은 시리즈 ??\n",
    "print('-'*40)\n",
    "print(result)"
   ]
  },
  {
   "cell_type": "code",
   "execution_count": null,
   "metadata": {},
   "outputs": [],
   "source": [
    "# 컬럼이 갖고있는 시리즈 데이터를 sum. 컬럼의 길이가 몇인지 모름. 위에 있는건 컬럼이 2개 였고, 행이 3개였음.\n",
    "def avg_3_apply(col): # 컬럼이 들어올 것을 알고 함수를 정의. 이 컬럼의 타입은 시리즈. 인덱스와 데이터로 구성되어있음. \n",
    "    print('-' * 40)\n",
    "    print('- avg_3_apply invoked. col: {}'.format( type(col) ) )\n",
    "    print('-' * 40)\n",
    "    \n",
    "    sum = 0\n",
    "    for item in col:\n",
    "         sum += item\n",
    "            \n",
    "    return sum / df.shape[0] # 나눠주는건 행의 갯수만큼 !\n",
    "\n",
    "result = df.apply(avg_3_apply)\n",
    "print('- result:')\n",
    "result\n"
   ]
  },
  {
   "cell_type": "code",
   "execution_count": null,
   "metadata": {},
   "outputs": [],
   "source": [
    "print(df)\n",
    "\n",
    "def avg_2_apply(row): # 행이 들어올 것을 가정하고 만듬. 마찬가지로 하나의 행도 시리즈임.\n",
    "                      #  시리즈도 lterable 하니까, for 문의 범위로 설정해서 끄집어내기\n",
    "                      # 여러개의 행 값을 끄집어내서 sum 해서 평균.\n",
    "    print('-' * 40)\n",
    "    print('- avg_3_apply invoked. row: {}'.format( type(row) ) )\n",
    "    print('-' * 40)\n",
    "    \n",
    "    sum = 0\n",
    "    for item in row:\n",
    "        sum += item\n",
    "    return sum / df.shape[1] # 여긴 당연히 나눠주는거니까 컬럼의 개수로\n",
    "\n",
    "result = df.apply(avg_2_apply, axis = 1) # if axis = 1, X-axis : row.\n",
    "print('- type(result):', type(result))\n",
    "result\n",
    "\n",
    "\n",
    "# 이렇게 데이터의 평균을 내는 (새로운 데이터를 내는) 것에선 return 데이터를 만들어야됨."
   ]
  },
  {
   "cell_type": "markdown",
   "metadata": {},
   "source": [
    "# 직접 해보세요!\n",
    "## 데이터프레임의 누락값을 처리한 다음 apply 메서드 사용하기(208쪽)"
   ]
  },
  {
   "cell_type": "markdown",
   "metadata": {},
   "source": [
    "## 1. 데이터프레임의 누락값 처리하기 ― 열 방향(axis = 0) y축"
   ]
  },
  {
   "cell_type": "code",
   "execution_count": null,
   "metadata": {},
   "outputs": [],
   "source": [
    "import seaborn as sns\n",
    "\n",
    "titanic = sns.load_dataset(\"titanic\") # 타이타닉 침몰 당시 생존자의 정보를 담고 있는 데이터"
   ]
  },
  {
   "cell_type": "code",
   "execution_count": 103,
   "metadata": {},
   "outputs": [
    {
     "name": "stdout",
     "output_type": "stream",
     "text": [
      "<class 'pandas.core.frame.DataFrame'>\n",
      "RangeIndex: 891 entries, 0 to 890\n",
      "Data columns (total 15 columns):\n",
      "survived       891 non-null int64\n",
      "pclass         891 non-null int64\n",
      "sex            891 non-null object\n",
      "age            714 non-null float64\n",
      "sibsp          891 non-null int64\n",
      "parch          891 non-null int64\n",
      "fare           891 non-null float64\n",
      "embarked       889 non-null object\n",
      "class          891 non-null category\n",
      "who            891 non-null object\n",
      "adult_male     891 non-null bool\n",
      "deck           203 non-null category\n",
      "embark_town    889 non-null object\n",
      "alive          891 non-null object\n",
      "alone          891 non-null bool\n",
      "dtypes: bool(2), category(2), float64(2), int64(4), object(5)\n",
      "memory usage: 80.6+ KB\n",
      "None\n",
      "----------------------------------------\n",
      "   survived  pclass     sex   age  sibsp  parch     fare embarked  class  \\\n",
      "0         0       3    male  22.0      1      0   7.2500        S  Third   \n",
      "1         1       1  female  38.0      1      0  71.2833        C  First   \n",
      "2         1       3  female  26.0      0      0   7.9250        S  Third   \n",
      "\n",
      "     who  adult_male deck  embark_town alive  alone  \n",
      "0    man        True  NaN  Southampton    no  False  \n",
      "1  woman       False    C    Cherbourg   yes  False  \n",
      "2  woman       False  NaN  Southampton   yes   True  \n"
     ]
    }
   ],
   "source": [
    "print(titanic.info()) # info만 보고도 결측치가 몇개 있는지 확인 가능.\n",
    "print('-' * 40)\n",
    "print(titanic.head(3)) # embarked는 결측치를 포함하고 있음. (출발지를 나타내는 컬럼)"
   ]
  },
  {
   "cell_type": "code",
   "execution_count": 107,
   "metadata": {},
   "outputs": [],
   "source": [
    "import numpy as np\n",
    "\n",
    "def count_missing(vec): # 인자로 주어진 벡터가 어떤 타입이든 모든 값 중 결측치의 갯수가 몇개인지 반환\n",
    "    print('-' * 50)\n",
    "    print('- count_missing invoked. vec: {}'.format(type(vec)))\n",
    "    print('-' * 50)\n",
    "    \n",
    "    null_vec = pd.isnull(vec) #\n",
    "    \n",
    "    null_count = np.sum(null_vec) # 총 결측치의 갯수를 반환\n",
    "    print('\\t+ 결측치의 개수:', null_count)\n",
    "    \n",
    "    return null_count"
   ]
  },
  {
   "cell_type": "code",
   "execution_count": 110,
   "metadata": {},
   "outputs": [
    {
     "name": "stdout",
     "output_type": "stream",
     "text": [
      "--------------------------------------------------\n",
      "- count_missing invoked. vec: <class 'pandas.core.series.Series'>\n",
      "--------------------------------------------------\n",
      "\t+ 결측치의 개수: 0\n",
      "--------------------------------------------------\n",
      "- count_missing invoked. vec: <class 'pandas.core.series.Series'>\n",
      "--------------------------------------------------\n",
      "\t+ 결측치의 개수: 0\n",
      "--------------------------------------------------\n",
      "- count_missing invoked. vec: <class 'pandas.core.series.Series'>\n",
      "--------------------------------------------------\n",
      "\t+ 결측치의 개수: 0\n",
      "--------------------------------------------------\n",
      "- count_missing invoked. vec: <class 'pandas.core.series.Series'>\n",
      "--------------------------------------------------\n",
      "\t+ 결측치의 개수: 177\n",
      "--------------------------------------------------\n",
      "- count_missing invoked. vec: <class 'pandas.core.series.Series'>\n",
      "--------------------------------------------------\n",
      "\t+ 결측치의 개수: 0\n",
      "--------------------------------------------------\n",
      "- count_missing invoked. vec: <class 'pandas.core.series.Series'>\n",
      "--------------------------------------------------\n",
      "\t+ 결측치의 개수: 0\n",
      "--------------------------------------------------\n",
      "- count_missing invoked. vec: <class 'pandas.core.series.Series'>\n",
      "--------------------------------------------------\n",
      "\t+ 결측치의 개수: 0\n",
      "--------------------------------------------------\n",
      "- count_missing invoked. vec: <class 'pandas.core.series.Series'>\n",
      "--------------------------------------------------\n",
      "\t+ 결측치의 개수: 2\n",
      "--------------------------------------------------\n",
      "- count_missing invoked. vec: <class 'pandas.core.series.Series'>\n",
      "--------------------------------------------------\n",
      "\t+ 결측치의 개수: 0\n",
      "--------------------------------------------------\n",
      "- count_missing invoked. vec: <class 'pandas.core.series.Series'>\n",
      "--------------------------------------------------\n",
      "\t+ 결측치의 개수: 0\n",
      "--------------------------------------------------\n",
      "- count_missing invoked. vec: <class 'pandas.core.series.Series'>\n",
      "--------------------------------------------------\n",
      "\t+ 결측치의 개수: 0\n",
      "--------------------------------------------------\n",
      "- count_missing invoked. vec: <class 'pandas.core.series.Series'>\n",
      "--------------------------------------------------\n",
      "\t+ 결측치의 개수: 688\n",
      "--------------------------------------------------\n",
      "- count_missing invoked. vec: <class 'pandas.core.series.Series'>\n",
      "--------------------------------------------------\n",
      "\t+ 결측치의 개수: 2\n",
      "--------------------------------------------------\n",
      "- count_missing invoked. vec: <class 'pandas.core.series.Series'>\n",
      "--------------------------------------------------\n",
      "\t+ 결측치의 개수: 0\n",
      "--------------------------------------------------\n",
      "- count_missing invoked. vec: <class 'pandas.core.series.Series'>\n",
      "--------------------------------------------------\n",
      "\t+ 결측치의 개수: 0\n",
      "type(cmis_col): <class 'pandas.core.series.Series'>\n",
      "--------------------------------------------------\n"
     ]
    }
   ],
   "source": [
    "cmis_col = titanic.apply(count_missing) # \n",
    "print('type(cmis_col):', type(cmis_col)) # 찍어주는 Return값도 시리즈로 나옴. 여러개의 리턴값이 발생해서 모아주면 시리즈 ! \n",
    "print('-' * 50) \n",
    "# print(cmis_col)"
   ]
  },
  {
   "cell_type": "markdown",
   "metadata": {},
   "source": [
    "### 8. 데이터프레임의 누락값을 처리하기 ― 행 방뱡 --> 직접 해보기 !!!\n",
    "### 건너뜀 !!\n"
   ]
  },
  {
   "cell_type": "code",
   "execution_count": null,
   "metadata": {},
   "outputs": [],
   "source": []
  }
 ],
 "metadata": {
  "kernelspec": {
   "display_name": "Python 3",
   "language": "python",
   "name": "python3"
  },
  "language_info": {
   "codemirror_mode": {
    "name": "ipython",
    "version": 3
   },
   "file_extension": ".py",
   "mimetype": "text/x-python",
   "name": "python",
   "nbconvert_exporter": "python",
   "pygments_lexer": "ipython3",
   "version": "3.8.0"
  }
 },
 "nbformat": 4,
 "nbformat_minor": 4
}
