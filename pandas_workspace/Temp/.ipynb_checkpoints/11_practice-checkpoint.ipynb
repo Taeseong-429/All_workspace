{
 "cells": [
  {
   "cell_type": "markdown",
   "metadata": {},
   "source": [
    "# 직접 해보세요!\n",
    "## groupby 메서드로 평균값 구하기(218쪽)"
   ]
  },
  {
   "cell_type": "code",
   "execution_count": 125,
   "metadata": {},
   "outputs": [
    {
     "name": "stdout",
     "output_type": "stream",
     "text": [
      "<class 'pandas.core.frame.DataFrame'>\n",
      "RangeIndex: 1704 entries, 0 to 1703\n",
      "Data columns (total 6 columns):\n",
      "country      1704 non-null object\n",
      "continent    1704 non-null object\n",
      "year         1704 non-null int64\n",
      "lifeExp      1704 non-null float64\n",
      "pop          1704 non-null int64\n",
      "gdpPercap    1704 non-null float64\n",
      "dtypes: float64(2), int64(2), object(2)\n",
      "memory usage: 80.0+ KB\n"
     ]
    }
   ],
   "source": [
    "import pandas as pd \n",
    "df = pd.read_csv('../doit_pandas/data/gapminder.tsv', sep='\\t')\n",
    "df.head()\n",
    "df.tail() # 행 갯수 파악 가능\n",
    "df.info() # 결측치가 없음을 확인할 수 있음. 행의 갯수 1704인데 컬럼 모두다 1704개 있어서.\n",
    "# 연속형 변수에 대해서 그룹바이하면 안됨 ! "
   ]
  },
  {
   "cell_type": "code",
   "execution_count": 5,
   "metadata": {},
   "outputs": [
    {
     "name": "stdout",
     "output_type": "stream",
     "text": [
      "year\n",
      "1952    49.057620\n",
      "1957    51.507401\n",
      "1962    53.609249\n",
      "1967    55.678290\n",
      "1972    57.647386\n",
      "1977    59.570157\n",
      "1982    61.533197\n",
      "1987    63.212613\n",
      "1992    64.160338\n",
      "1997    65.014676\n",
      "2002    65.694923\n",
      "2007    67.007423\n",
      "Name: lifeExp, dtype: float64\n"
     ]
    }
   ],
   "source": [
    "meanLifeExp = df.groupby('year')['lifeExp'].mean() # 모든 행을 연도를 기준으로 모아서 특정 컬럼명 평균을 구한다. (연도별 평균 기대수명)\n",
    "\n",
    "print(meanLifeExp) # 시리즈 형태로 그룹된 데이터가 나옴.\n",
    "\n",
    "# avg_life_exp_by_year = df.groupby('year')['lifeExp'].mean()\n",
    "# print(avg_life_exp_by_year)"
   ]
  },
  {
   "cell_type": "markdown",
   "metadata": {},
   "source": [
    "# 직접 해보세요!\n",
    "## 분할-반영-결합 과정 살펴보기(216쪽) (그룹바이하면 분할 반영 결합 3과정 거침)"
   ]
  },
  {
   "cell_type": "code",
   "execution_count": 6,
   "metadata": {},
   "outputs": [
    {
     "name": "stdout",
     "output_type": "stream",
     "text": [
      "1952\n",
      "1957\n",
      "1962\n",
      "1967\n",
      "1972\n",
      "1977\n",
      "1982\n",
      "1987\n",
      "1992\n",
      "1997\n",
      "2002\n",
      "2007\n"
     ]
    }
   ],
   "source": [
    "# Series.unique() : 고유한 데이터를 리스트로 반환\n",
    "# Series.unuique() : 고유한 값의 개수를 반환\n",
    "\n",
    "years = df.year.unique() # df에서 year 컬럼 선택. unique라는 메소드 선택( 중복되지 않은 고유한 값만 추출 후 리스트로만들어줌 )\n",
    "years # 이렇게 출력해야 타입도 나옴.\n",
    "# print(years)\n",
    "\n",
    "for year in years:\n",
    "    print(year)\n",
    "    pass"
   ]
  },
  {
   "cell_type": "code",
   "execution_count": 7,
   "metadata": {},
   "outputs": [
    {
     "data": {
      "text/plain": [
       "0        True\n",
       "1       False\n",
       "2       False\n",
       "3       False\n",
       "4       False\n",
       "        ...  \n",
       "1699    False\n",
       "1700    False\n",
       "1701    False\n",
       "1702    False\n",
       "1703    False\n",
       "Name: year, Length: 1704, dtype: bool"
      ]
     },
     "execution_count": 7,
     "metadata": {},
     "output_type": "execute_result"
    }
   ],
   "source": [
    "# 특정연도(1952년)에 해당하는 행들만 따로 추출\n",
    "df.year == 1952 \n",
    "# Vector 연산의 결과 ---> 왼쪽 피연산자(vector)와 동일한 타입의 객체\n",
    "# 가 산출되고, 그 안의 데이터는 모두 True or False로 구성됨"
   ]
  },
  {
   "cell_type": "code",
   "execution_count": 8,
   "metadata": {},
   "outputs": [
    {
     "data": {
      "text/html": [
       "<div>\n",
       "<style scoped>\n",
       "    .dataframe tbody tr th:only-of-type {\n",
       "        vertical-align: middle;\n",
       "    }\n",
       "\n",
       "    .dataframe tbody tr th {\n",
       "        vertical-align: top;\n",
       "    }\n",
       "\n",
       "    .dataframe thead th {\n",
       "        text-align: right;\n",
       "    }\n",
       "</style>\n",
       "<table border=\"1\" class=\"dataframe\">\n",
       "  <thead>\n",
       "    <tr style=\"text-align: right;\">\n",
       "      <th></th>\n",
       "      <th>country</th>\n",
       "      <th>continent</th>\n",
       "      <th>year</th>\n",
       "      <th>lifeExp</th>\n",
       "      <th>pop</th>\n",
       "      <th>gdpPercap</th>\n",
       "    </tr>\n",
       "  </thead>\n",
       "  <tbody>\n",
       "    <tr>\n",
       "      <th>0</th>\n",
       "      <td>Afghanistan</td>\n",
       "      <td>Asia</td>\n",
       "      <td>1952</td>\n",
       "      <td>28.801</td>\n",
       "      <td>8425333</td>\n",
       "      <td>779.445314</td>\n",
       "    </tr>\n",
       "    <tr>\n",
       "      <th>12</th>\n",
       "      <td>Albania</td>\n",
       "      <td>Europe</td>\n",
       "      <td>1952</td>\n",
       "      <td>55.230</td>\n",
       "      <td>1282697</td>\n",
       "      <td>1601.056136</td>\n",
       "    </tr>\n",
       "    <tr>\n",
       "      <th>24</th>\n",
       "      <td>Algeria</td>\n",
       "      <td>Africa</td>\n",
       "      <td>1952</td>\n",
       "      <td>43.077</td>\n",
       "      <td>9279525</td>\n",
       "      <td>2449.008185</td>\n",
       "    </tr>\n",
       "    <tr>\n",
       "      <th>36</th>\n",
       "      <td>Angola</td>\n",
       "      <td>Africa</td>\n",
       "      <td>1952</td>\n",
       "      <td>30.015</td>\n",
       "      <td>4232095</td>\n",
       "      <td>3520.610273</td>\n",
       "    </tr>\n",
       "    <tr>\n",
       "      <th>48</th>\n",
       "      <td>Argentina</td>\n",
       "      <td>Americas</td>\n",
       "      <td>1952</td>\n",
       "      <td>62.485</td>\n",
       "      <td>17876956</td>\n",
       "      <td>5911.315053</td>\n",
       "    </tr>\n",
       "    <tr>\n",
       "      <th>...</th>\n",
       "      <td>...</td>\n",
       "      <td>...</td>\n",
       "      <td>...</td>\n",
       "      <td>...</td>\n",
       "      <td>...</td>\n",
       "      <td>...</td>\n",
       "    </tr>\n",
       "    <tr>\n",
       "      <th>1644</th>\n",
       "      <td>Vietnam</td>\n",
       "      <td>Asia</td>\n",
       "      <td>1952</td>\n",
       "      <td>40.412</td>\n",
       "      <td>26246839</td>\n",
       "      <td>605.066492</td>\n",
       "    </tr>\n",
       "    <tr>\n",
       "      <th>1656</th>\n",
       "      <td>West Bank and Gaza</td>\n",
       "      <td>Asia</td>\n",
       "      <td>1952</td>\n",
       "      <td>43.160</td>\n",
       "      <td>1030585</td>\n",
       "      <td>1515.592329</td>\n",
       "    </tr>\n",
       "    <tr>\n",
       "      <th>1668</th>\n",
       "      <td>Yemen, Rep.</td>\n",
       "      <td>Asia</td>\n",
       "      <td>1952</td>\n",
       "      <td>32.548</td>\n",
       "      <td>4963829</td>\n",
       "      <td>781.717576</td>\n",
       "    </tr>\n",
       "    <tr>\n",
       "      <th>1680</th>\n",
       "      <td>Zambia</td>\n",
       "      <td>Africa</td>\n",
       "      <td>1952</td>\n",
       "      <td>42.038</td>\n",
       "      <td>2672000</td>\n",
       "      <td>1147.388831</td>\n",
       "    </tr>\n",
       "    <tr>\n",
       "      <th>1692</th>\n",
       "      <td>Zimbabwe</td>\n",
       "      <td>Africa</td>\n",
       "      <td>1952</td>\n",
       "      <td>48.451</td>\n",
       "      <td>3080907</td>\n",
       "      <td>406.884115</td>\n",
       "    </tr>\n",
       "  </tbody>\n",
       "</table>\n",
       "<p>142 rows × 6 columns</p>\n",
       "</div>"
      ],
      "text/plain": [
       "                 country continent  year  lifeExp       pop    gdpPercap\n",
       "0            Afghanistan      Asia  1952   28.801   8425333   779.445314\n",
       "12               Albania    Europe  1952   55.230   1282697  1601.056136\n",
       "24               Algeria    Africa  1952   43.077   9279525  2449.008185\n",
       "36                Angola    Africa  1952   30.015   4232095  3520.610273\n",
       "48             Argentina  Americas  1952   62.485  17876956  5911.315053\n",
       "...                  ...       ...   ...      ...       ...          ...\n",
       "1644             Vietnam      Asia  1952   40.412  26246839   605.066492\n",
       "1656  West Bank and Gaza      Asia  1952   43.160   1030585  1515.592329\n",
       "1668         Yemen, Rep.      Asia  1952   32.548   4963829   781.717576\n",
       "1680              Zambia    Africa  1952   42.038   2672000  1147.388831\n",
       "1692            Zimbabwe    Africa  1952   48.451   3080907   406.884115\n",
       "\n",
       "[142 rows x 6 columns]"
      ]
     },
     "execution_count": 8,
     "metadata": {},
     "output_type": "execute_result"
    }
   ],
   "source": [
    "# 이거 자세히 설명하기 위해 위에서부터 따로 분해해서 설명\n",
    "\n",
    "# y1952 = df.loc[df.year == 1952, :]  # 1st method (인덱스 번호 쓰는 loc에 콤마 왼쪽엔 행, 오른쪽엔 열. 그리고 불린추출!! )\n",
    "# y1952 # 불린추출 후 year 이 1952인 데이터 추출\n",
    "\n",
    "# y1952 = [df.year == 1952] # 2nd method\n",
    "# y1952 = df.loc[ df.year == 1952] # 3rd method\n",
    "# y1952 = df.iloc[ df.year == 1952] # 4rd method # df.iloc 속성에는, Boolean 추출을 적용 불가 !! (주의)\n",
    "y1952 = df.loc[df.year == 1952, ] # 5rd method\n",
    "\n",
    "y1952\n",
    "\n",
    "# print(y1952.head()) # 특정 연도 하나에 해당되는 행들만 모아보자. (불린추출)"
   ]
  },
  {
   "cell_type": "code",
   "execution_count": 12,
   "metadata": {},
   "outputs": [
    {
     "data": {
      "text/plain": [
       "49.057619718309866"
      ]
     },
     "execution_count": 12,
     "metadata": {},
     "output_type": "execute_result"
    }
   ],
   "source": [
    "# y1952_mean = y1952.lifeExp.mean() # 1st.method\n",
    "y1952_mean = y1952['lifeExp'].mean() # 2nd.method(정석) # 대괄호 열고 그 안에 컬럼명 넣는게 정석\n",
    "# 1952년도의 평균 기대수명\n",
    "y1952_mean"
   ]
  },
  {
   "cell_type": "code",
   "execution_count": 13,
   "metadata": {
    "scrolled": true
   },
   "outputs": [
    {
     "name": "stdout",
     "output_type": "stream",
     "text": [
      "1952. mean: 49.057619718309866\n",
      "1957. mean: 51.50740112676056\n",
      "1962. mean: 53.609249014084504\n",
      "2007. mean: 67.00742253521126\n"
     ]
    }
   ],
   "source": [
    "y1957 = df.loc[df.year == 1957, :]  # 각각의 연도를 분할, 처리\n",
    "y1957_mean = y1957.lifeExp.mean( )\n",
    "# print(y1957_mean)\n",
    "\n",
    "y1962 = df.loc[df.year == 1962, :] \n",
    "y1962_mean = y1962.lifeExp.mean( )\n",
    "# print(y1962_mean)\n",
    "\n",
    "y2007 = df.loc[df.year == 2007, :] \n",
    "y2007_mean = y2007.lifeExp.mean( )\n",
    "# print(y2007_mean)\n",
    "\n",
    "print('{}. mean: {}'.format(1952, y1952_mean))\n",
    "print('{}. mean: {}'.format(1957, y1957_mean))\n",
    "print('{}. mean: {}'.format(1962, y1962_mean))\n",
    "print('{}. mean: {}'.format(2007, y2007_mean))"
   ]
  },
  {
   "cell_type": "code",
   "execution_count": 14,
   "metadata": {},
   "outputs": [
    {
     "name": "stdout",
     "output_type": "stream",
     "text": [
      "   year           \n",
      "0  1952  49.057620\n",
      "1  1957  51.507401\n",
      "2  1962  53.609249\n",
      "3  2007  67.007423\n"
     ]
    }
   ],
   "source": [
    "# Step.3 : 결합과정(반영과정의 각 결과를 하나로 모으는 과정) # 데이터프레임으로 만들자. 시리즈처럼 보이게 하기 위해 하나 컬럼 이름은 빈문자열로.\n",
    "df2 = pd.DataFrame({\n",
    "    \"year\":[1952, 1957, 1962, 2007], \n",
    "    \"\":[y1952_mean, y1957_mean,y1962_mean,y2007_mean] # 아까 위에서 불편했던 컬럼명이 아래에오는걸\n",
    "    # 극복하고자 컬럼명을 지정할 수 있게.\n",
    "}) \n",
    "\n",
    "print(df2)"
   ]
  },
  {
   "cell_type": "markdown",
   "metadata": {},
   "source": [
    "# 직접 해보세요!\n",
    "## 평균값을 구하는 사용자 함수와 groupby 메서드(219쪽)"
   ]
  },
  {
   "cell_type": "code",
   "execution_count": 17,
   "metadata": {},
   "outputs": [],
   "source": [
    "# 각 그룹데이터에 대한 집계를 구하는 사용자 정의 집계 함수\n",
    "\n",
    "def my_mean(vector): # 벡터가 들어올 것이다 가정\n",
    "    \n",
    "    \n",
    "    n = len(vector)\n",
    "    \n",
    "    sum = 0 \n",
    "    for vec in vector: \n",
    "        sum += vec\n",
    "        \n",
    "    return sum / n"
   ]
  },
  {
   "cell_type": "code",
   "execution_count": 18,
   "metadata": {},
   "outputs": [
    {
     "name": "stdout",
     "output_type": "stream",
     "text": [
      "<class 'pandas.core.groupby.generic.DataFrameGroupBy'>\n",
      "--------------------------------------------------\n"
     ]
    },
    {
     "data": {
      "text/plain": [
       "<pandas.core.groupby.generic.DataFrameGroupBy object at 0x000000000EE26A90>"
      ]
     },
     "execution_count": 18,
     "metadata": {},
     "output_type": "execute_result"
    }
   ],
   "source": [
    "# Group Object 생성\n",
    "obj = df.groupby('year') # 그룹 오브젝트로 만들기.\n",
    "\n",
    "print( type(obj) )\n",
    "print('-' * 50)\n",
    "obj"
   ]
  },
  {
   "cell_type": "code",
   "execution_count": 19,
   "metadata": {},
   "outputs": [
    {
     "name": "stdout",
     "output_type": "stream",
     "text": [
      "year\n",
      "1952    49.057620\n",
      "1957    51.507401\n",
      "1962    53.609249\n",
      "1967    55.678290\n",
      "1972    57.647386\n",
      "1977    59.570157\n",
      "1982    61.533197\n",
      "1987    63.212613\n",
      "1992    64.160338\n",
      "1997    65.014676\n",
      "2002    65.694923\n",
      "2007    67.007423\n",
      "Name: lifeExp, dtype: float64\n"
     ]
    }
   ],
   "source": [
    "groupObj = df.groupby('year') # 데이터프레임. . 맞음\n",
    "\n",
    "agg_my_mean = groupObj.lifeExp.agg(my_mean) # agg(집계 메소드). 기대수명 컬럼 선택해서 mean 쓰지 않고 우리만의 집계 함수 쓰자.\n",
    "# (agg 쓰면 우리가 만든 함수 쓸 수 있다는 말인가 ??) \n",
    "# apply랑 차이가..? 집계 차이점인가 ?\n",
    "# agg 메소드는 groupobj가 갖고 있는 연도별로 기대수명을 모아서 시리즈 데이터를 my_mean에 넘겨서 반환한다!.\n",
    "\n",
    "print(agg_my_mean)"
   ]
  },
  {
   "cell_type": "markdown",
   "metadata": {},
   "source": [
    "# 두 개의 인잣값을 받아 처리하는 사용자 함수와 groupby 메서드"
   ]
  },
  {
   "cell_type": "code",
   "execution_count": 27,
   "metadata": {},
   "outputs": [],
   "source": [
    "def my_mean_diff(vector, diff_value): # diff_value는 차이를 구할 값 ! (평균에서 다음 값을 뺀다)\n",
    "    print('-'*40)\n",
    "    print(' my_mean_diff(vector) invoked. vector.')\n",
    "    print('-'*40)\n",
    "    print('\\t+ type(vector):', type(vector))\n",
    "    print('\\t+ diff_value:', diff_value)\n",
    "    \n",
    "    n = len(vector) \n",
    "    sum = 0 \n",
    "    for value in vector:\n",
    "        sum += value \n",
    "    mean = sum / n \n",
    "    \n",
    "    return mean - diff_value # 편차(=잔차) 구하여 반환"
   ]
  },
  {
   "cell_type": "code",
   "execution_count": 28,
   "metadata": {},
   "outputs": [
    {
     "name": "stdout",
     "output_type": "stream",
     "text": [
      "59.474439366197174\n"
     ]
    }
   ],
   "source": [
    "global_mean = df.lifeExp.mean()  # 평균 기대수명 구해서 글로벌에 저장.\n",
    "\n",
    "print(global_mean)"
   ]
  },
  {
   "cell_type": "code",
   "execution_count": 29,
   "metadata": {},
   "outputs": [
    {
     "name": "stdout",
     "output_type": "stream",
     "text": [
      "----------------------------------------\n",
      " my_mean_diff(vector) invoked. vector.\n",
      "----------------------------------------\n",
      "\t+ type(vector): <class 'pandas.core.series.Series'>\n",
      "\t+ diff_value: 59.474439366197174\n",
      "----------------------------------------\n",
      " my_mean_diff(vector) invoked. vector.\n",
      "----------------------------------------\n",
      "\t+ type(vector): <class 'pandas.core.series.Series'>\n",
      "\t+ diff_value: 59.474439366197174\n",
      "----------------------------------------\n",
      " my_mean_diff(vector) invoked. vector.\n",
      "----------------------------------------\n",
      "\t+ type(vector): <class 'pandas.core.series.Series'>\n",
      "\t+ diff_value: 59.474439366197174\n",
      "----------------------------------------\n",
      " my_mean_diff(vector) invoked. vector.\n",
      "----------------------------------------\n",
      "\t+ type(vector): <class 'pandas.core.series.Series'>\n",
      "\t+ diff_value: 59.474439366197174\n",
      "----------------------------------------\n",
      " my_mean_diff(vector) invoked. vector.\n",
      "----------------------------------------\n",
      "\t+ type(vector): <class 'pandas.core.series.Series'>\n",
      "\t+ diff_value: 59.474439366197174\n",
      "----------------------------------------\n",
      " my_mean_diff(vector) invoked. vector.\n",
      "----------------------------------------\n",
      "\t+ type(vector): <class 'pandas.core.series.Series'>\n",
      "\t+ diff_value: 59.474439366197174\n",
      "----------------------------------------\n",
      " my_mean_diff(vector) invoked. vector.\n",
      "----------------------------------------\n",
      "\t+ type(vector): <class 'pandas.core.series.Series'>\n",
      "\t+ diff_value: 59.474439366197174\n",
      "----------------------------------------\n",
      " my_mean_diff(vector) invoked. vector.\n",
      "----------------------------------------\n",
      "\t+ type(vector): <class 'pandas.core.series.Series'>\n",
      "\t+ diff_value: 59.474439366197174\n",
      "----------------------------------------\n",
      " my_mean_diff(vector) invoked. vector.\n",
      "----------------------------------------\n",
      "\t+ type(vector): <class 'pandas.core.series.Series'>\n",
      "\t+ diff_value: 59.474439366197174\n",
      "----------------------------------------\n",
      " my_mean_diff(vector) invoked. vector.\n",
      "----------------------------------------\n",
      "\t+ type(vector): <class 'pandas.core.series.Series'>\n",
      "\t+ diff_value: 59.474439366197174\n",
      "----------------------------------------\n",
      " my_mean_diff(vector) invoked. vector.\n",
      "----------------------------------------\n",
      "\t+ type(vector): <class 'pandas.core.series.Series'>\n",
      "\t+ diff_value: 59.474439366197174\n",
      "----------------------------------------\n",
      " my_mean_diff(vector) invoked. vector.\n",
      "----------------------------------------\n",
      "\t+ type(vector): <class 'pandas.core.series.Series'>\n",
      "\t+ diff_value: 59.474439366197174\n",
      "year\n",
      "1952   -10.416820\n",
      "1957    -7.967038\n",
      "1962    -5.865190\n",
      "1967    -3.796150\n",
      "1972    -1.827053\n",
      "1977     0.095718\n",
      "1982     2.058758\n",
      "1987     3.738173\n",
      "1992     4.685899\n",
      "1997     5.540237\n",
      "2002     6.220483\n",
      "2007     7.532983\n",
      "Name: lifeExp, dtype: float64\n"
     ]
    }
   ],
   "source": [
    "agg_mean_diff = df.\\\n",
    "    groupby('year').\\\n",
    "    lifeExp.\\\n",
    "    agg(my_mean_diff, diff_value=global_mean) \n",
    "print(agg_mean_diff)\n",
    "\n",
    "# 비쥬얼 스튜디오에서 원래는 . 찍고 다음 라인에 넣어도 이어짐. 여기 노트북에선 그 다음라인으로 넘어간다는 \\ 표시해야함.\n",
    "# 행이 이어진다는 \\ 표시 해야함.\n",
    "# 별표시 하나는 positional arguement\n",
    "# 이렇게 도트를 기준으로 넘김 되는ㄱ ??"
   ]
  },
  {
   "cell_type": "markdown",
   "metadata": {},
   "source": [
    "# 직접 해보세요!\n",
    "## 집계 메서드를 리스트, 딕셔너리에 담아 전달하기(221쪽)"
   ]
  },
  {
   "cell_type": "code",
   "execution_count": 30,
   "metadata": {},
   "outputs": [
    {
     "name": "stdout",
     "output_type": "stream",
     "text": [
      "      count_nonzero       mean        std\n",
      "year                                     \n",
      "1952          142.0  49.057620  12.225956\n",
      "1957          142.0  51.507401  12.231286\n",
      "1962          142.0  53.609249  12.097245\n",
      "1967          142.0  55.678290  11.718858\n",
      "1972          142.0  57.647386  11.381953\n",
      "1977          142.0  59.570157  11.227229\n",
      "1982          142.0  61.533197  10.770618\n",
      "1987          142.0  63.212613  10.556285\n",
      "1992          142.0  64.160338  11.227380\n",
      "1997          142.0  65.014676  11.559439\n",
      "2002          142.0  65.694923  12.279823\n",
      "2007          142.0  67.007423  12.073021\n"
     ]
    }
   ],
   "source": [
    "import numpy as np # numpy가 제공하는 다양한 집계 메소드를 ! \n",
    "\n",
    "gdf = df.groupby('year').\\\n",
    "    lifeExp.\\\n",
    "    agg([np.count_nonzero, np.mean, np.std]) # agg는 이 3개의 메소드를 시행.\n",
    "\n",
    "print(gdf)"
   ]
  },
  {
   "cell_type": "code",
   "execution_count": 31,
   "metadata": {},
   "outputs": [
    {
     "name": "stdout",
     "output_type": "stream",
     "text": [
      "        lifeExp         pop    gdpPercap\n",
      "year                                    \n",
      "1952  49.057620   3943953.0  1968.528344\n",
      "1957  51.507401   4282942.0  2173.220291\n",
      "1962  53.609249   4686039.5  2335.439533\n",
      "1967  55.678290   5170175.5  2678.334741\n",
      "1972  57.647386   5877996.5  3339.129407\n",
      "1977  59.570157   6404036.5  3798.609244\n",
      "1982  61.533197   7007320.0  4216.228428\n",
      "1987  63.212613   7774861.5  4280.300366\n",
      "1992  64.160338   8688686.5  4386.085502\n",
      "1997  65.014676   9735063.5  4781.825478\n",
      "2002  65.694923  10372918.5  5319.804524\n",
      "2007  67.007423  10517531.0  6124.371109\n"
     ]
    }
   ],
   "source": [
    "gdf_dict = df.\\\n",
    "    groupby('year').\\\n",
    "    agg({\n",
    "        'lifeExp': 'mean', \n",
    "        'pop': 'median', \n",
    "        'gdpPercap': 'median'\n",
    "    }) # 지정된 컬럼별로, 집계산출. 여러개의 컬럼에 대해서 집계를 구할 수 있음.\n",
    "        # 상당히 유용.\n",
    "        # 동일한 데이터에 대해 마음대로 섞어서 사용 가능\n",
    "        # 문자열로 지정하는건가 ?\n",
    "print(gdf_dict)"
   ]
  },
  {
   "cell_type": "markdown",
   "metadata": {},
   "source": [
    "# 직접 해보세요!\n",
    "## 표준점수 계산하기(223쪽)"
   ]
  },
  {
   "cell_type": "markdown",
   "metadata": {},
   "source": [
    "#### 표준점수 :"
   ]
  },
  {
   "cell_type": "markdown",
   "metadata": {},
   "source": [
    "### 가. 데이터의 평균과 표준편차의 차이"
   ]
  },
  {
   "cell_type": "markdown",
   "metadata": {},
   "source": [
    "#### a. 표준편차란? 집단 내, 개체들의 산포도(=변동)를 나타내는 통계량 (분산의 제곱근)"
   ]
  },
  {
   "cell_type": "markdown",
   "metadata": {},
   "source": [
    "#### b. 산포도란? 모집단(또는 표본)에 속하는 개체(관찰값)들의 변이 정도(=변동) 통계량"
   ]
  },
  {
   "cell_type": "markdown",
   "metadata": {},
   "source": [
    "#### c. 변동(=변이정도)란? "
   ]
  },
  {
   "cell_type": "markdown",
   "metadata": {},
   "source": [
    "### 나. 데이터가 표준화됨(평균:0, 표준편차:1)"
   ]
  },
  {
   "cell_type": "markdown",
   "metadata": {},
   "source": [
    "a. 표준화란? 관찰값(또는 평균값)을 표준단위로 바꾸는 것"
   ]
  },
  {
   "cell_type": "markdown",
   "metadata": {},
   "source": [
    "b. 표준단위란? 표준화된 편차 의미(편차/표준편차)"
   ]
  },
  {
   "cell_type": "markdown",
   "metadata": {},
   "source": [
    "c. Z점수 = (관찰값 -(모)평균)/(모)표준편차=편차/(모)표준편차"
   ]
  },
  {
   "cell_type": "markdown",
   "metadata": {},
   "source": [
    "### 다. Z점수(Z-score) 라고도 함 -> 표준정규분포 (Z-분포, N(0,1))를 따름"
   ]
  },
  {
   "cell_type": "markdown",
   "metadata": {},
   "source": [
    "### 라. 다른 데이터와의 비교를 쉽게 만듬"
   ]
  },
  {
   "cell_type": "code",
   "execution_count": 65,
   "metadata": {},
   "outputs": [],
   "source": [
    "def add(vector):   # 벡터의 각 관측치를 1씩 올려주는 변환\n",
    "    \n",
    "    return vector + 1  # 왼쪽은 벡터, 오른쪽은 스칼라니까 브로드캐스팅 연산(=벡터연산) \n",
    "                        # 이렇게 기존의 데이터를 다른 값으로 바꿔주는걸 변환이라함.\n",
    "    pass"
   ]
  },
  {
   "cell_type": "code",
   "execution_count": 71,
   "metadata": {},
   "outputs": [],
   "source": [
    "groupObj = df.groupby('year') # DataFrameGroupBy : 그룹 오브젝트\n",
    "groupObjCon = df.groupby('continent') # 대륙별로 그룹 오브젝트\n",
    "groupObjCont = df.groupby('country') # 국가별로 그룹 오브젝트"
   ]
  },
  {
   "cell_type": "code",
   "execution_count": 73,
   "metadata": {},
   "outputs": [
    {
     "name": "stdout",
     "output_type": "stream",
     "text": [
      "                 country continent  year  lifeExp       pop    gdpPercap\n",
      "0            Afghanistan      Asia  1952   28.801   8425333   779.445314\n",
      "12               Albania    Europe  1952   55.230   1282697  1601.056136\n",
      "24               Algeria    Africa  1952   43.077   9279525  2449.008185\n",
      "36                Angola    Africa  1952   30.015   4232095  3520.610273\n",
      "48             Argentina  Americas  1952   62.485  17876956  5911.315053\n",
      "...                  ...       ...   ...      ...       ...          ...\n",
      "1644             Vietnam      Asia  1952   40.412  26246839   605.066492\n",
      "1656  West Bank and Gaza      Asia  1952   43.160   1030585  1515.592329\n",
      "1668         Yemen, Rep.      Asia  1952   32.548   4963829   781.717576\n",
      "1680              Zambia    Africa  1952   42.038   2672000  1147.388831\n",
      "1692            Zimbabwe    Africa  1952   48.451   3080907   406.884115\n",
      "\n",
      "[142 rows x 6 columns]\n",
      "                 country continent  year  lifeExp       pop    gdpPercap\n",
      "1            Afghanistan      Asia  1957   30.332   9240934   820.853030\n",
      "13               Albania    Europe  1957   59.280   1476505  1942.284244\n",
      "25               Algeria    Africa  1957   45.685  10270856  3013.976023\n",
      "37                Angola    Africa  1957   31.999   4561361  3827.940465\n",
      "49             Argentina  Americas  1957   64.399  19610538  6856.856212\n",
      "...                  ...       ...   ...      ...       ...          ...\n",
      "1645             Vietnam      Asia  1957   42.887  28998543   676.285448\n",
      "1657  West Bank and Gaza      Asia  1957   45.671   1070439  1827.067742\n",
      "1669         Yemen, Rep.      Asia  1957   33.970   5498090   804.830455\n",
      "1681              Zambia    Africa  1957   44.077   3016000  1311.956766\n",
      "1693            Zimbabwe    Africa  1957   50.469   3646340   518.764268\n",
      "\n",
      "[142 rows x 6 columns]\n",
      "          country continent  year  lifeExp       pop    gdpPercap\n",
      "60      Australia   Oceania  1952   69.120   8691212  10039.59564\n",
      "61      Australia   Oceania  1957   70.330   9712569  10949.64959\n",
      "62      Australia   Oceania  1962   70.930  10794968  12217.22686\n",
      "63      Australia   Oceania  1967   71.100  11872264  14526.12465\n",
      "64      Australia   Oceania  1972   71.930  13177000  16788.62948\n",
      "65      Australia   Oceania  1977   73.490  14074100  18334.19751\n",
      "66      Australia   Oceania  1982   74.740  15184200  19477.00928\n",
      "67      Australia   Oceania  1987   76.320  16257249  21888.88903\n",
      "68      Australia   Oceania  1992   77.560  17481977  23424.76683\n",
      "69      Australia   Oceania  1997   78.830  18565243  26997.93657\n",
      "70      Australia   Oceania  2002   80.370  19546792  30687.75473\n",
      "71      Australia   Oceania  2007   81.235  20434176  34435.36744\n",
      "1092  New Zealand   Oceania  1952   69.390   1994794  10556.57566\n",
      "1093  New Zealand   Oceania  1957   70.260   2229407  12247.39532\n",
      "1094  New Zealand   Oceania  1962   71.240   2488550  13175.67800\n",
      "1095  New Zealand   Oceania  1967   71.520   2728150  14463.91893\n",
      "1096  New Zealand   Oceania  1972   71.890   2929100  16046.03728\n",
      "1097  New Zealand   Oceania  1977   72.220   3164900  16233.71770\n",
      "1098  New Zealand   Oceania  1982   73.840   3210650  17632.41040\n",
      "1099  New Zealand   Oceania  1987   74.320   3317166  19007.19129\n",
      "1100  New Zealand   Oceania  1992   76.330   3437674  18363.32494\n",
      "1101  New Zealand   Oceania  1997   77.550   3676187  21050.41377\n",
      "1102  New Zealand   Oceania  2002   79.110   3908037  23189.80135\n",
      "1103  New Zealand   Oceania  2007   80.204   4115771  25185.00911\n",
      "      country continent  year  lifeExp       pop    gdpPercap\n",
      "1644  Vietnam      Asia  1952   40.412  26246839   605.066492\n",
      "1645  Vietnam      Asia  1957   42.887  28998543   676.285448\n",
      "1646  Vietnam      Asia  1962   45.363  33796140   772.049160\n",
      "1647  Vietnam      Asia  1967   47.838  39463910   637.123289\n",
      "1648  Vietnam      Asia  1972   50.254  44655014   699.501644\n",
      "1649  Vietnam      Asia  1977   55.764  50533506   713.537120\n",
      "1650  Vietnam      Asia  1982   58.816  56142181   707.235786\n",
      "1651  Vietnam      Asia  1987   62.820  62826491   820.799445\n",
      "1652  Vietnam      Asia  1992   67.662  69940728   989.023149\n",
      "1653  Vietnam      Asia  1997   70.672  76048996  1385.896769\n",
      "1654  Vietnam      Asia  2002   73.017  80908147  1764.456677\n",
      "1655  Vietnam      Asia  2007   74.249  85262356  2441.576404\n"
     ]
    }
   ],
   "source": [
    "# df.groupby() 메소드로 생성된, 개별 그룹의 데이터를 추출하는 메소드\n",
    "# => get_group(그룹명)\n",
    "g1952 = groupObj.get_group(1952) # 1952년에 속한 행들만 추출\n",
    "g1957 = groupObj.get_group(1957) # 1957년에 속한 행들만 추출\n",
    "gOceania = groupObjCon.get_group('Oceania') # 오세아니아 대륙에 속하는 행들만 추출\n",
    "gVietnam = groupObjCont.get_group('Vietnam') # 베트남 국가에 속하는 행들만 추출\n",
    "\n",
    "print(g1952)\n",
    "print(g1957)\n",
    "print(gOceania)\n",
    "print(gVietnam)"
   ]
  },
  {
   "cell_type": "code",
   "execution_count": 61,
   "metadata": {},
   "outputs": [
    {
     "name": "stdout",
     "output_type": "stream",
     "text": [
      "0       29.801\n",
      "12      56.230\n",
      "24      44.077\n",
      "36      31.015\n",
      "48      63.485\n",
      "         ...  \n",
      "1644    41.412\n",
      "1656    44.160\n",
      "1668    33.548\n",
      "1680    43.038\n",
      "1692    49.451\n",
      "Name: lifeExp, Length: 142, dtype: float64\n"
     ]
    }
   ],
   "source": [
    "transform_z = groupObj.get_group(1952)['lifeExp'].transform(add) # 연도별로 평균수명에 +1 한 듯 ..?\n",
    "print(transform_z) # 이 결과는 연도별로 그룹핑해서 5년마다 자료로 모아져있음."
   ]
  },
  {
   "cell_type": "code",
   "execution_count": 74,
   "metadata": {},
   "outputs": [],
   "source": [
    "# 이거 아래껀 넘어갔음.. 어렵다고해서"
   ]
  },
  {
   "cell_type": "code",
   "execution_count": 34,
   "metadata": {},
   "outputs": [],
   "source": [
    "def my_zscore(vector): # 편차를 표준편차로 나눈거 ! \n",
    "    return (vector - vector.mean()) / vector.std() # 벡터연산의 수행결과도 벡터. 이걸 또 표준편차인 스칼라로 나눠도 결과값은 벡터."
   ]
  },
  {
   "cell_type": "code",
   "execution_count": 19,
   "metadata": {},
   "outputs": [
    {
     "name": "stdout",
     "output_type": "stream",
     "text": [
      "0   -1.656854\n",
      "1   -1.731249\n",
      "2   -1.786543\n",
      "3   -1.848157\n",
      "4   -1.894173\n",
      "Name: lifeExp, dtype: float64\n"
     ]
    }
   ],
   "source": [
    "transform_z = df.groupby('year').lifeExp.transform(my_zscore) # 위에 zscore는 집계 데이터 계산이 아닌, 변환이기 때문에..transform 쓰기.\n",
    "\n",
    "# 기존의 데이터를 다른 형태로 바꾸는건 agg가 아니라 transform 을 사용해야함.\n",
    "\n",
    "print(transform_z.head())  ## 값이 하나 나오는게 아니라 가지고 있는 값을 변환시켜줌 ?"
   ]
  },
  {
   "cell_type": "markdown",
   "metadata": {},
   "source": [
    "# 직접 해보세요!\n",
    "## 누락값을 평균값으로 처리하기(224쪽)"
   ]
  },
  {
   "cell_type": "code",
   "execution_count": 130,
   "metadata": {},
   "outputs": [
    {
     "name": "stdout",
     "output_type": "stream",
     "text": [
      "1. tips.shape: (244, 7)\n",
      "2. tips_10.shape: (10, 7)\n",
      "     total_bill   tip     sex smoker   day    time  size\n",
      "24        19.82  3.18    Male     No   Sat  Dinner     2\n",
      "6          8.77  2.00    Male     No   Sun  Dinner     2\n",
      "153       24.55  2.00    Male     No   Sun  Dinner     4\n",
      "211       25.89  5.16    Male    Yes   Sat  Dinner     4\n",
      "198       13.00  2.00  Female    Yes  Thur   Lunch     2\n",
      "176       17.89  2.00    Male    Yes   Sun  Dinner     2\n",
      "192       28.44  2.56    Male    Yes  Thur   Lunch     2\n",
      "124       12.48  2.52  Female     No  Thur   Lunch     2\n",
      "9         14.78  3.23    Male     No   Sun  Dinner     2\n",
      "101       15.38  3.00  Female    Yes   Fri  Dinner     2\n",
      "----------------------------------------\n",
      "tips_10.index:  Int64Index([24, 6, 153, 211, 198, 176, 192, 124, 9, 101], dtype='int64')\n",
      "----------------------------------------\n",
      "np.random.permutation(tips_10.index) : [176 211 198 153 101   6 192 124  24   9]\n",
      "----------------------------------------\n",
      "tips_10.loc[np.random.permutation(tips_10.index)[:4], \"total_bill\"] = np.NaN :      total_bill   tip     sex smoker   day    time  size\n",
      "24          NaN  3.18    Male     No   Sat  Dinner     2\n",
      "6          8.77  2.00    Male     No   Sun  Dinner     2\n",
      "153       24.55  2.00    Male     No   Sun  Dinner     4\n",
      "211         NaN  5.16    Male    Yes   Sat  Dinner     4\n",
      "198         NaN  2.00  Female    Yes  Thur   Lunch     2\n",
      "176       17.89  2.00    Male    Yes   Sun  Dinner     2\n",
      "192       28.44  2.56    Male    Yes  Thur   Lunch     2\n",
      "124         NaN  2.52  Female     No  Thur   Lunch     2\n",
      "9         14.78  3.23    Male     No   Sun  Dinner     2\n",
      "101       15.38  3.00  Female    Yes   Fri  Dinner     2\n"
     ]
    }
   ],
   "source": [
    "import seaborn as sns \n",
    "import numpy as np\n",
    "\n",
    "# 난수값 생성시, 기준 값(이를 seed라고 함) 설정\n",
    "np.random.seed(42) # seed에서 아무숫자나 정해야함. 임의의 정수값.\n",
    "# np.random.seed(59) # 이거 seed값 없애거나 바꿔서 해보니 랜덤 추출 한 값 달라짐 ! !.\n",
    "# 재현한 결과 중 중요한 것 다시 추출 가능 !\n",
    "\n",
    "# tips 데이터 프레임의 행 데이터 중에서, \n",
    "# 무작위로 10개의 행들만 추출(완전확률표본추출)\n",
    "tips = sns.load_dataset('tips') # 일반적으로 하던 거.\n",
    "print( '1. tips.shape:',tips.shape)\n",
    "\n",
    "tips_10 = tips.sample(10) ## load_dataset 의 메소드인 sample() 를 이용한 것임 !.\n",
    "print( '2. tips_10.shape:',tips_10.shape) # 무작위로 10개 했으니 행 10개만 출력.\n",
    "print(tips_10)\n",
    "print('-' * 40)\n",
    "\n",
    "# numpy의 random 모듈의 permutation() 메소드(치환)를\n",
    "# 사용하여, 임의의 위치에 누락값(결측치) 생성\n",
    "# permutation: (1) 순열(숫자의 열) (2) 치환(replacement)\n",
    "\n",
    "print('tips_10.index: ',tips_10.index)\n",
    "print('-' * 40)\n",
    "print('np.random.permutation(tips_10.index) :', np.random.permutation(tips_10.index)) # 무작위로 섞음 ! 순서를 바꿈. 순열\n",
    "print('-' * 40)\n",
    "\n",
    "tips_10.loc[np.random.permutation(tips_10.index)[:4], 'total_bill'] = np.NaN # total_bill 이 갖고 있는 컬럼에다가\n",
    "# np.NaN 결측치를 의미하는 값을 임의대로 넣은거 !  \n",
    "# 하지만 np.random.permutation(순열)의미로 사용.\n",
    "# 위에 있는 np.random~ ~ 결과값인 리스트에다가 \n",
    "\n",
    "print('tips_10.loc[np.random.permutation(tips_10.index)[:4], \"total_bill\"] = np.NaN :',tips_10) # Nan 무작위로 넣고 배열"
   ]
  },
  {
   "cell_type": "code",
   "execution_count": 131,
   "metadata": {},
   "outputs": [
    {
     "name": "stdout",
     "output_type": "stream",
     "text": [
      "        total_bill  tip  smoker  day  time  size\n",
      "sex                                             \n",
      "Male             5    7       7    7     7     7\n",
      "Female           1    3       3    3     3     3\n",
      "--------------------------------------------------------------------------------\n",
      "     total_bill   tip   sex smoker   day    time  size\n",
      "24          NaN  3.18  Male     No   Sat  Dinner     2\n",
      "6          8.77  2.00  Male     No   Sun  Dinner     2\n",
      "153       24.55  2.00  Male     No   Sun  Dinner     4\n",
      "211         NaN  5.16  Male    Yes   Sat  Dinner     4\n",
      "176       17.89  2.00  Male    Yes   Sun  Dinner     2\n",
      "192       28.44  2.56  Male    Yes  Thur   Lunch     2\n",
      "9         14.78  3.23  Male     No   Sun  Dinner     2\n",
      "----------------------------------------\n",
      "total_bill    5\n",
      "tip           7\n",
      "sex           7\n",
      "smoker        7\n",
      "day           7\n",
      "time          7\n",
      "size          7\n",
      "dtype: int64\n"
     ]
    }
   ],
   "source": [
    "count_sex = tips_10.groupby('sex').count() # count메소드는 groupobj에 대해 개별 행으로 구성되어있는 행들에 대해 카운트 함.\n",
    "print(count_sex)\n",
    "print('-' * 80)\n",
    "\n",
    "# 위 아래 둘다 같은 결과를 나타내는데 표현이 다름.\n",
    "\n",
    "groupObj = tips_10.groupby('sex')\n",
    "maleGroup = groupObj.get_group('Male') \n",
    "print(maleGroup)\n",
    "print('-' * 40)\n",
    "print(maleGroup.count())"
   ]
  },
  {
   "cell_type": "code",
   "execution_count": 134,
   "metadata": {},
   "outputs": [],
   "source": [
    "tips = sns.load_dataset('tips')"
   ]
  },
  {
   "cell_type": "code",
   "execution_count": null,
   "metadata": {},
   "outputs": [],
   "source": [
    "# 결측치를 소위 변수의 대표값으로 대체시에,\n",
    "# 주의해야 할 점...\n",
    "\n",
    "# 1) 결측치를 포함하고 있는 변수를, 특정 범주에 따라\n",
    "#    그룹을 만들지 않는 경우에는, 해당 변수의 소위 대표값(=특성값)으로\n",
    "#    결측치를 대체할 때 일지라도, 아래의 예와 같이, 수집된 데이터의\n",
    "#    구성비율이 어느 한쪽으로 편중되게 확보되어 있는지를 고려할 필요가\n",
    "#    있다.!!! (*******매우 중요 *******)\n",
    "\n",
    "# 2) 아래의 예와 같이, 결측치를 포함하고 있는 변수를,\n",
    "#    처음부터, 특정범주를 고려하여 그룹을 만들고, 분석하는 경우에는,\n",
    "#    범주를 제공하는 지정된 변수의 그룹별, 데이터의 구성을 보고,\n",
    "#    반드시 각 범주별 데이터의 구성비율이 역시 어느 한쪽으로 편중되어\n",
    "#    있지 않은지 확인필요  (*******매우 중요 ********)"
   ]
  },
  {
   "cell_type": "code",
   "execution_count": 132,
   "metadata": {},
   "outputs": [],
   "source": [
    "# 인자로 들어온 x 로부터, \n",
    "# 1) 평균을 구하고, \n",
    "# 2) 결측치를 평균으로 대체\n",
    "\n",
    "def fill_na_mean(vector): # \n",
    "    avg = vector.mean() \n",
    "    print('- avg:', avg)\n",
    "    \n",
    "    return vector.fillna(avg)"
   ]
  },
  {
   "cell_type": "code",
   "execution_count": 138,
   "metadata": {},
   "outputs": [
    {
     "data": {
      "text/html": [
       "<div>\n",
       "<style scoped>\n",
       "    .dataframe tbody tr th:only-of-type {\n",
       "        vertical-align: middle;\n",
       "    }\n",
       "\n",
       "    .dataframe tbody tr th {\n",
       "        vertical-align: top;\n",
       "    }\n",
       "\n",
       "    .dataframe thead th {\n",
       "        text-align: right;\n",
       "    }\n",
       "</style>\n",
       "<table border=\"1\" class=\"dataframe\">\n",
       "  <thead>\n",
       "    <tr style=\"text-align: right;\">\n",
       "      <th></th>\n",
       "      <th>sex</th>\n",
       "      <th>total_bill</th>\n",
       "      <th>tip</th>\n",
       "      <th>smoker</th>\n",
       "      <th>day</th>\n",
       "      <th>time</th>\n",
       "      <th>size</th>\n",
       "    </tr>\n",
       "  </thead>\n",
       "  <tbody>\n",
       "    <tr>\n",
       "      <th>0</th>\n",
       "      <td>Male</td>\n",
       "      <td>5</td>\n",
       "      <td>7</td>\n",
       "      <td>7</td>\n",
       "      <td>7</td>\n",
       "      <td>7</td>\n",
       "      <td>7</td>\n",
       "    </tr>\n",
       "    <tr>\n",
       "      <th>1</th>\n",
       "      <td>Female</td>\n",
       "      <td>1</td>\n",
       "      <td>3</td>\n",
       "      <td>3</td>\n",
       "      <td>3</td>\n",
       "      <td>3</td>\n",
       "      <td>3</td>\n",
       "    </tr>\n",
       "  </tbody>\n",
       "</table>\n",
       "</div>"
      ],
      "text/plain": [
       "      sex  total_bill  tip  smoker  day  time  size\n",
       "0    Male           5    7       7    7     7     7\n",
       "1  Female           1    3       3    3     3     3"
      ]
     },
     "execution_count": 138,
     "metadata": {},
     "output_type": "execute_result"
    }
   ],
   "source": [
    "tips_10.groupby('sex').count().reset_index() # reset_index 하면 보기 편하게 나옴.\n",
    "\n",
    "\n",
    "# 시리즈(Series)가 제공하는 변환메소드인 transform()을\n",
    "# 이용하여, 사용자 정의 함수 적용시켜, 기존 데이터를 *변환*함\n",
    "# df_transformed = tips_10.total_bill.transform(fill_na_mean)\n",
    "# df_transformed\n",
    "\n",
    "# groupObj = tips_10.groupby('sex')\n",
    "# df_transformed = groupObj.total_bill.transform(fill_na_mean)\n",
    "# df_transformed\n",
    "# total_bill_group_mean = tips_10.groupby('sex').total_bill.transform(fill_na_mean)\n",
    "\n",
    "# tips_10['fill_total_bill'] = df_transformed\n",
    "# print(tips_10)"
   ]
  },
  {
   "cell_type": "markdown",
   "metadata": {},
   "source": [
    "# 데이터 필터링 사용하기 ─ filter 메서드"
   ]
  },
  {
   "cell_type": "code",
   "execution_count": null,
   "metadata": {},
   "outputs": [],
   "source": []
  },
  {
   "cell_type": "markdown",
   "metadata": {},
   "source": [
    "# 그룹 오브젝트 저장하여 살펴보기"
   ]
  },
  {
   "cell_type": "code",
   "execution_count": null,
   "metadata": {},
   "outputs": [],
   "source": []
  },
  {
   "cell_type": "markdown",
   "metadata": {},
   "source": [
    "# 그룹 오브젝트의 평균 구하기"
   ]
  },
  {
   "cell_type": "code",
   "execution_count": null,
   "metadata": {},
   "outputs": [],
   "source": []
  },
  {
   "cell_type": "markdown",
   "metadata": {},
   "source": [
    "# 그룹 오브젝트에서 데이터 추출하고 반복하기"
   ]
  },
  {
   "cell_type": "code",
   "execution_count": null,
   "metadata": {},
   "outputs": [],
   "source": []
  },
  {
   "cell_type": "markdown",
   "metadata": {},
   "source": [
    "# 그룹 오브젝트 계산하고 살펴보기"
   ]
  },
  {
   "cell_type": "code",
   "execution_count": null,
   "metadata": {},
   "outputs": [],
   "source": []
  }
 ],
 "metadata": {
  "kernelspec": {
   "display_name": "Python 3",
   "language": "python",
   "name": "python3"
  },
  "language_info": {
   "codemirror_mode": {
    "name": "ipython",
    "version": 3
   },
   "file_extension": ".py",
   "mimetype": "text/x-python",
   "name": "python",
   "nbconvert_exporter": "python",
   "pygments_lexer": "ipython3",
   "version": "3.8.0"
  }
 },
 "nbformat": 4,
 "nbformat_minor": 4
}
