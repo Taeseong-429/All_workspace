{
 "cells": [
  {
   "cell_type": "code",
   "execution_count": 5,
   "metadata": {},
   "outputs": [
    {
     "name": "stdout",
     "output_type": "stream",
     "text": [
      "<class 'pandas.core.frame.DataFrame'>\n",
      "RangeIndex: 1704 entries, 0 to 1703\n",
      "Data columns (total 6 columns):\n",
      "country      1704 non-null object\n",
      "continent    1704 non-null object\n",
      "year         1704 non-null int64\n",
      "lifeExp      1704 non-null float64\n",
      "pop          1704 non-null int64\n",
      "gdpPercap    1704 non-null float64\n",
      "dtypes: float64(2), int64(2), object(2)\n",
      "memory usage: 80.0+ KB\n"
     ]
    }
   ],
   "source": [
    "import pandas as pd\n",
    "df = pd.read_csv('../doit_pandas/data/gapminder.tsv', sep='\\t')\n",
    "df.info()"
   ]
  },
  {
   "cell_type": "code",
   "execution_count": 11,
   "metadata": {},
   "outputs": [],
   "source": [
    "pop = df['pop']\n",
    "# pop = df.pop # 한개의 열만 추출 / but, pop라는 함수가 이미 존재하기때문에 이거 안됨.\n",
    "# 도트연산자로 불러올 때 데이터 타입이 갖고 있는 내부 속성과 컬럼 이름 충돌 가능."
   ]
  },
  {
   "cell_type": "code",
   "execution_count": 15,
   "metadata": {},
   "outputs": [
    {
     "data": {
      "text/plain": [
       "0     8425333\n",
       "1     9240934\n",
       "2    10267083\n",
       "3    11537966\n",
       "4    13079460\n",
       "Name: pop, dtype: int64"
      ]
     },
     "execution_count": 15,
     "metadata": {},
     "output_type": "execute_result"
    }
   ],
   "source": [
    "pop.head()"
   ]
  },
  {
   "cell_type": "code",
   "execution_count": 16,
   "metadata": {},
   "outputs": [
    {
     "data": {
      "text/plain": [
       "1699     9216418\n",
       "1700    10704340\n",
       "1701    11404948\n",
       "1702    11926563\n",
       "1703    12311143\n",
       "Name: pop, dtype: int64"
      ]
     },
     "execution_count": 16,
     "metadata": {},
     "output_type": "execute_result"
    }
   ],
   "source": [
    "pop.tail()"
   ]
  },
  {
   "cell_type": "code",
   "execution_count": 17,
   "metadata": {},
   "outputs": [
    {
     "data": {
      "text/plain": [
       "pandas.core.series.Series"
      ]
     },
     "execution_count": 17,
     "metadata": {},
     "output_type": "execute_result"
    }
   ],
   "source": [
    "type(pop)"
   ]
  },
  {
   "cell_type": "code",
   "execution_count": 18,
   "metadata": {},
   "outputs": [
    {
     "data": {
      "text/plain": [
       "60011"
      ]
     },
     "execution_count": 18,
     "metadata": {},
     "output_type": "execute_result"
    }
   ],
   "source": [
    "pop.min() # pop 시리즈가 갖고 있는 가장 작은 값. (통계량으로 생각해야함!)"
   ]
  },
  {
   "cell_type": "code",
   "execution_count": 19,
   "metadata": {},
   "outputs": [
    {
     "data": {
      "text/plain": [
       "1318683096"
      ]
     },
     "execution_count": 19,
     "metadata": {},
     "output_type": "execute_result"
    }
   ],
   "source": [
    "pop.max() "
   ]
  },
  {
   "cell_type": "code",
   "execution_count": 20,
   "metadata": {},
   "outputs": [
    {
     "data": {
      "text/plain": [
       "29601212.324530516"
      ]
     },
     "execution_count": 20,
     "metadata": {},
     "output_type": "execute_result"
    }
   ],
   "source": [
    "pop.mean()"
   ]
  },
  {
   "cell_type": "code",
   "execution_count": 21,
   "metadata": {},
   "outputs": [
    {
     "data": {
      "text/plain": [
       "7023595.5"
      ]
     },
     "execution_count": 21,
     "metadata": {},
     "output_type": "execute_result"
    }
   ],
   "source": [
    "pop.median()"
   ]
  },
  {
   "cell_type": "code",
   "execution_count": 22,
   "metadata": {},
   "outputs": [
    {
     "data": {
      "text/plain": [
       "106157896.74391477"
      ]
     },
     "execution_count": 22,
     "metadata": {},
     "output_type": "execute_result"
    }
   ],
   "source": [
    "pop.std()"
   ]
  },
  {
   "cell_type": "code",
   "execution_count": 23,
   "metadata": {},
   "outputs": [
    {
     "data": {
      "text/plain": [
       "1.126949904109167e+16"
      ]
     },
     "execution_count": 23,
     "metadata": {},
     "output_type": "execute_result"
    }
   ],
   "source": [
    "pop.var()\n"
   ]
  },
  {
   "cell_type": "code",
   "execution_count": 24,
   "metadata": {},
   "outputs": [
    {
     "data": {
      "text/plain": [
       "50440465801"
      ]
     },
     "execution_count": 24,
     "metadata": {},
     "output_type": "execute_result"
    }
   ],
   "source": [
    "pop.sum()"
   ]
  },
  {
   "cell_type": "code",
   "execution_count": 25,
   "metadata": {},
   "outputs": [
    {
     "data": {
      "text/plain": [
       "1704"
      ]
     },
     "execution_count": 25,
     "metadata": {},
     "output_type": "execute_result"
    }
   ],
   "source": [
    "pop.nunique()"
   ]
  },
  {
   "cell_type": "code",
   "execution_count": 26,
   "metadata": {},
   "outputs": [
    {
     "data": {
      "text/plain": [
       "7023595.5"
      ]
     },
     "execution_count": 26,
     "metadata": {},
     "output_type": "execute_result"
    }
   ],
   "source": [
    "pop.quantile()"
   ]
  },
  {
   "cell_type": "code",
   "execution_count": 30,
   "metadata": {},
   "outputs": [
    {
     "data": {
      "text/plain": [
       "25757626.200000007"
      ]
     },
     "execution_count": 30,
     "metadata": {},
     "output_type": "execute_result"
    }
   ],
   "source": [
    "pop.quantile(.8) # 분위수 값에는 0 ~ 1 을 넣어야함. 80%는 .8 임"
   ]
  },
  {
   "cell_type": "code",
   "execution_count": 32,
   "metadata": {},
   "outputs": [
    {
     "data": {
      "text/plain": [
       "77.94820336885383"
      ]
     },
     "execution_count": 32,
     "metadata": {},
     "output_type": "execute_result"
    }
   ],
   "source": [
    "pop.kurtosis() # 첨도"
   ]
  },
  {
   "cell_type": "code",
   "execution_count": 33,
   "metadata": {},
   "outputs": [
    {
     "data": {
      "text/plain": [
       "8.340217715355305"
      ]
     },
     "execution_count": 33,
     "metadata": {},
     "output_type": "execute_result"
    }
   ],
   "source": [
    "pop.skew() # "
   ]
  },
  {
   "cell_type": "code",
   "execution_count": 34,
   "metadata": {},
   "outputs": [
    {
     "data": {
      "text/plain": [
       "0        943.0\n",
       "1        999.0\n",
       "2       1067.0\n",
       "3       1129.0\n",
       "4       1169.0\n",
       "         ...  \n",
       "1699     995.0\n",
       "1700    1097.0\n",
       "1701    1122.0\n",
       "1702    1139.0\n",
       "1703    1146.0\n",
       "Name: pop, Length: 1704, dtype: float64"
      ]
     },
     "execution_count": 34,
     "metadata": {},
     "output_type": "execute_result"
    }
   ],
   "source": [
    "pop.rank()"
   ]
  },
  {
   "cell_type": "code",
   "execution_count": 35,
   "metadata": {},
   "outputs": [
    {
     "data": {
      "text/plain": [
       "count    1.704000e+03\n",
       "mean     2.960121e+07\n",
       "std      1.061579e+08\n",
       "min      6.001100e+04\n",
       "25%      2.793664e+06\n",
       "50%      7.023596e+06\n",
       "75%      1.958522e+07\n",
       "max      1.318683e+09\n",
       "Name: pop, dtype: float64"
      ]
     },
     "execution_count": 35,
     "metadata": {},
     "output_type": "execute_result"
    }
   ],
   "source": [
    "pop.describe() # 뒤에 숫자들은 과학적 표기법"
   ]
  },
  {
   "cell_type": "code",
   "execution_count": 36,
   "metadata": {},
   "outputs": [
    {
     "data": {
      "text/plain": [
       "0        8425333\n",
       "1        9240934\n",
       "2       10267083\n",
       "3       11537966\n",
       "4       13079460\n",
       "          ...   \n",
       "1699     9216418\n",
       "1700    10704340\n",
       "1701    11404948\n",
       "1702    11926563\n",
       "1703    12311143\n",
       "Name: pop, Length: 1704, dtype: int64"
      ]
     },
     "execution_count": 36,
     "metadata": {},
     "output_type": "execute_result"
    }
   ],
   "source": [
    "pop"
   ]
  },
  {
   "cell_type": "code",
   "execution_count": 37,
   "metadata": {},
   "outputs": [
    {
     "data": {
      "text/plain": [
       "country      Afghanistan\n",
       "continent         Africa\n",
       "year                1952\n",
       "lifeExp           23.599\n",
       "pop                60011\n",
       "gdpPercap        241.166\n",
       "dtype: object"
      ]
     },
     "execution_count": 37,
     "metadata": {},
     "output_type": "execute_result"
    }
   ],
   "source": [
    "df.min()"
   ]
  },
  {
   "cell_type": "code",
   "execution_count": 38,
   "metadata": {},
   "outputs": [
    {
     "data": {
      "text/plain": [
       "country        Zimbabwe\n",
       "continent       Oceania\n",
       "year               2007\n",
       "lifeExp          82.603\n",
       "pop          1318683096\n",
       "gdpPercap        113523\n",
       "dtype: object"
      ]
     },
     "execution_count": 38,
     "metadata": {},
     "output_type": "execute_result"
    }
   ],
   "source": [
    "df.max()"
   ]
  },
  {
   "cell_type": "code",
   "execution_count": 39,
   "metadata": {},
   "outputs": [
    {
     "data": {
      "text/plain": [
       "year         1.979500e+03\n",
       "lifeExp      5.947444e+01\n",
       "pop          2.960121e+07\n",
       "gdpPercap    7.215327e+03\n",
       "dtype: float64"
      ]
     },
     "execution_count": 39,
     "metadata": {},
     "output_type": "execute_result"
    }
   ],
   "source": [
    "df.mean() # 숫자형태의 컬럼만 평균값 뽑아냄."
   ]
  },
  {
   "cell_type": "code",
   "execution_count": 40,
   "metadata": {},
   "outputs": [
    {
     "data": {
      "text/plain": [
       "year         1.979500e+03\n",
       "lifeExp      6.071250e+01\n",
       "pop          7.023596e+06\n",
       "gdpPercap    3.531847e+03\n",
       "dtype: float64"
      ]
     },
     "execution_count": 40,
     "metadata": {},
     "output_type": "execute_result"
    }
   ],
   "source": [
    "df.median() # 정렬 이후에 중간값 뽑아냄. 여기도 문자열은 없음."
   ]
  },
  {
   "cell_type": "code",
   "execution_count": 41,
   "metadata": {},
   "outputs": [
    {
     "data": {
      "text/plain": [
       "year         1.726533e+01\n",
       "lifeExp      1.291711e+01\n",
       "pop          1.061579e+08\n",
       "gdpPercap    9.857455e+03\n",
       "dtype: float64"
      ]
     },
     "execution_count": 41,
     "metadata": {},
     "output_type": "execute_result"
    }
   ],
   "source": [
    "df.std()"
   ]
  },
  {
   "cell_type": "code",
   "execution_count": 42,
   "metadata": {},
   "outputs": [
    {
     "data": {
      "text/plain": [
       "year         2.980916e+02\n",
       "lifeExp      1.668517e+02\n",
       "pop          1.126950e+16\n",
       "gdpPercap    9.716941e+07\n",
       "dtype: float64"
      ]
     },
     "execution_count": 42,
     "metadata": {},
     "output_type": "execute_result"
    }
   ],
   "source": [
    "df.var()"
   ]
  },
  {
   "cell_type": "code",
   "execution_count": 43,
   "metadata": {},
   "outputs": [
    {
     "data": {
      "text/plain": [
       "country      AfghanistanAfghanistanAfghanistanAfghanistanAf...\n",
       "continent    AsiaAsiaAsiaAsiaAsiaAsiaAsiaAsiaAsiaAsiaAsiaAs...\n",
       "year                                                   3373068\n",
       "lifeExp                                                 101344\n",
       "pop                                                50440465801\n",
       "gdpPercap                                          1.22949e+07\n",
       "dtype: object"
      ]
     },
     "execution_count": 43,
     "metadata": {},
     "output_type": "execute_result"
    }
   ],
   "source": [
    "df.sum()"
   ]
  },
  {
   "cell_type": "code",
   "execution_count": 44,
   "metadata": {},
   "outputs": [
    {
     "data": {
      "text/plain": [
       "country       142\n",
       "continent       5\n",
       "year           12\n",
       "lifeExp      1626\n",
       "pop          1704\n",
       "gdpPercap    1704\n",
       "dtype: int64"
      ]
     },
     "execution_count": 44,
     "metadata": {},
     "output_type": "execute_result"
    }
   ],
   "source": [
    "df.nunique()"
   ]
  },
  {
   "cell_type": "code",
   "execution_count": 45,
   "metadata": {},
   "outputs": [
    {
     "data": {
      "text/plain": [
       "year         1.979500e+03\n",
       "lifeExp      6.071250e+01\n",
       "pop          7.023596e+06\n",
       "gdpPercap    3.531847e+03\n",
       "Name: 0.5, dtype: float64"
      ]
     },
     "execution_count": 45,
     "metadata": {},
     "output_type": "execute_result"
    }
   ],
   "source": [
    "df.quantile() # 기본 분위수는 50% (.5)"
   ]
  },
  {
   "cell_type": "code",
   "execution_count": 47,
   "metadata": {},
   "outputs": [
    {
     "data": {
      "text/plain": [
       "year         -1.216832\n",
       "lifeExp      -1.126685\n",
       "pop          77.948203\n",
       "gdpPercap    27.515894\n",
       "dtype: float64"
      ]
     },
     "execution_count": 47,
     "metadata": {},
     "output_type": "execute_result"
    }
   ],
   "source": [
    "df.kurtosis() # 값이 클수록 뾰족해지고 작을수록 밋밋해짐. "
   ]
  },
  {
   "cell_type": "code",
   "execution_count": 48,
   "metadata": {},
   "outputs": [
    {
     "data": {
      "text/plain": [
       "year         0.000000\n",
       "lifeExp     -0.252702\n",
       "pop          8.340218\n",
       "gdpPercap    3.850272\n",
       "dtype: float64"
      ]
     },
     "execution_count": 48,
     "metadata": {},
     "output_type": "execute_result"
    }
   ],
   "source": [
    "df.skew() # 왼쪽으로 치우쳤느냐, 왼쪽으로 치우쳤느냐 "
   ]
  },
  {
   "cell_type": "code",
   "execution_count": 49,
   "metadata": {},
   "outputs": [
    {
     "data": {
      "text/html": [
       "<div>\n",
       "<style scoped>\n",
       "    .dataframe tbody tr th:only-of-type {\n",
       "        vertical-align: middle;\n",
       "    }\n",
       "\n",
       "    .dataframe tbody tr th {\n",
       "        vertical-align: top;\n",
       "    }\n",
       "\n",
       "    .dataframe thead th {\n",
       "        text-align: right;\n",
       "    }\n",
       "</style>\n",
       "<table border=\"1\" class=\"dataframe\">\n",
       "  <thead>\n",
       "    <tr style=\"text-align: right;\">\n",
       "      <th></th>\n",
       "      <th>country</th>\n",
       "      <th>continent</th>\n",
       "      <th>year</th>\n",
       "      <th>lifeExp</th>\n",
       "      <th>pop</th>\n",
       "      <th>gdpPercap</th>\n",
       "    </tr>\n",
       "  </thead>\n",
       "  <tbody>\n",
       "    <tr>\n",
       "      <th>0</th>\n",
       "      <td>6.5</td>\n",
       "      <td>1122.5</td>\n",
       "      <td>71.5</td>\n",
       "      <td>2.0</td>\n",
       "      <td>943.0</td>\n",
       "      <td>227.0</td>\n",
       "    </tr>\n",
       "    <tr>\n",
       "      <th>1</th>\n",
       "      <td>6.5</td>\n",
       "      <td>1122.5</td>\n",
       "      <td>213.5</td>\n",
       "      <td>6.0</td>\n",
       "      <td>999.0</td>\n",
       "      <td>255.0</td>\n",
       "    </tr>\n",
       "    <tr>\n",
       "      <th>2</th>\n",
       "      <td>6.5</td>\n",
       "      <td>1122.5</td>\n",
       "      <td>355.5</td>\n",
       "      <td>11.0</td>\n",
       "      <td>1067.0</td>\n",
       "      <td>274.0</td>\n",
       "    </tr>\n",
       "    <tr>\n",
       "      <th>3</th>\n",
       "      <td>6.5</td>\n",
       "      <td>1122.5</td>\n",
       "      <td>497.5</td>\n",
       "      <td>25.0</td>\n",
       "      <td>1129.0</td>\n",
       "      <td>262.0</td>\n",
       "    </tr>\n",
       "    <tr>\n",
       "      <th>4</th>\n",
       "      <td>6.5</td>\n",
       "      <td>1122.5</td>\n",
       "      <td>639.5</td>\n",
       "      <td>45.0</td>\n",
       "      <td>1169.0</td>\n",
       "      <td>202.0</td>\n",
       "    </tr>\n",
       "    <tr>\n",
       "      <th>...</th>\n",
       "      <td>...</td>\n",
       "      <td>...</td>\n",
       "      <td>...</td>\n",
       "      <td>...</td>\n",
       "      <td>...</td>\n",
       "      <td>...</td>\n",
       "    </tr>\n",
       "    <tr>\n",
       "      <th>1699</th>\n",
       "      <td>1698.5</td>\n",
       "      <td>312.5</td>\n",
       "      <td>1065.5</td>\n",
       "      <td>903.0</td>\n",
       "      <td>995.0</td>\n",
       "      <td>181.0</td>\n",
       "    </tr>\n",
       "    <tr>\n",
       "      <th>1700</th>\n",
       "      <td>1698.5</td>\n",
       "      <td>312.5</td>\n",
       "      <td>1207.5</td>\n",
       "      <td>843.0</td>\n",
       "      <td>1097.0</td>\n",
       "      <td>174.0</td>\n",
       "    </tr>\n",
       "    <tr>\n",
       "      <th>1701</th>\n",
       "      <td>1698.5</td>\n",
       "      <td>312.5</td>\n",
       "      <td>1349.5</td>\n",
       "      <td>375.0</td>\n",
       "      <td>1122.0</td>\n",
       "      <td>236.0</td>\n",
       "    </tr>\n",
       "    <tr>\n",
       "      <th>1702</th>\n",
       "      <td>1698.5</td>\n",
       "      <td>312.5</td>\n",
       "      <td>1491.5</td>\n",
       "      <td>124.0</td>\n",
       "      <td>1139.0</td>\n",
       "      <td>153.0</td>\n",
       "    </tr>\n",
       "    <tr>\n",
       "      <th>1703</th>\n",
       "      <td>1698.5</td>\n",
       "      <td>312.5</td>\n",
       "      <td>1633.5</td>\n",
       "      <td>243.0</td>\n",
       "      <td>1146.0</td>\n",
       "      <td>52.0</td>\n",
       "    </tr>\n",
       "  </tbody>\n",
       "</table>\n",
       "<p>1704 rows × 6 columns</p>\n",
       "</div>"
      ],
      "text/plain": [
       "      country  continent    year  lifeExp     pop  gdpPercap\n",
       "0         6.5     1122.5    71.5      2.0   943.0      227.0\n",
       "1         6.5     1122.5   213.5      6.0   999.0      255.0\n",
       "2         6.5     1122.5   355.5     11.0  1067.0      274.0\n",
       "3         6.5     1122.5   497.5     25.0  1129.0      262.0\n",
       "4         6.5     1122.5   639.5     45.0  1169.0      202.0\n",
       "...       ...        ...     ...      ...     ...        ...\n",
       "1699   1698.5      312.5  1065.5    903.0   995.0      181.0\n",
       "1700   1698.5      312.5  1207.5    843.0  1097.0      174.0\n",
       "1701   1698.5      312.5  1349.5    375.0  1122.0      236.0\n",
       "1702   1698.5      312.5  1491.5    124.0  1139.0      153.0\n",
       "1703   1698.5      312.5  1633.5    243.0  1146.0       52.0\n",
       "\n",
       "[1704 rows x 6 columns]"
      ]
     },
     "execution_count": 49,
     "metadata": {},
     "output_type": "execute_result"
    }
   ],
   "source": [
    "df.rank()"
   ]
  },
  {
   "cell_type": "code",
   "execution_count": 50,
   "metadata": {},
   "outputs": [
    {
     "data": {
      "text/html": [
       "<div>\n",
       "<style scoped>\n",
       "    .dataframe tbody tr th:only-of-type {\n",
       "        vertical-align: middle;\n",
       "    }\n",
       "\n",
       "    .dataframe tbody tr th {\n",
       "        vertical-align: top;\n",
       "    }\n",
       "\n",
       "    .dataframe thead th {\n",
       "        text-align: right;\n",
       "    }\n",
       "</style>\n",
       "<table border=\"1\" class=\"dataframe\">\n",
       "  <thead>\n",
       "    <tr style=\"text-align: right;\">\n",
       "      <th></th>\n",
       "      <th>year</th>\n",
       "      <th>lifeExp</th>\n",
       "      <th>pop</th>\n",
       "      <th>gdpPercap</th>\n",
       "    </tr>\n",
       "  </thead>\n",
       "  <tbody>\n",
       "    <tr>\n",
       "      <th>count</th>\n",
       "      <td>1704.00000</td>\n",
       "      <td>1704.000000</td>\n",
       "      <td>1.704000e+03</td>\n",
       "      <td>1704.000000</td>\n",
       "    </tr>\n",
       "    <tr>\n",
       "      <th>mean</th>\n",
       "      <td>1979.50000</td>\n",
       "      <td>59.474439</td>\n",
       "      <td>2.960121e+07</td>\n",
       "      <td>7215.327081</td>\n",
       "    </tr>\n",
       "    <tr>\n",
       "      <th>std</th>\n",
       "      <td>17.26533</td>\n",
       "      <td>12.917107</td>\n",
       "      <td>1.061579e+08</td>\n",
       "      <td>9857.454543</td>\n",
       "    </tr>\n",
       "    <tr>\n",
       "      <th>min</th>\n",
       "      <td>1952.00000</td>\n",
       "      <td>23.599000</td>\n",
       "      <td>6.001100e+04</td>\n",
       "      <td>241.165877</td>\n",
       "    </tr>\n",
       "    <tr>\n",
       "      <th>25%</th>\n",
       "      <td>1965.75000</td>\n",
       "      <td>48.198000</td>\n",
       "      <td>2.793664e+06</td>\n",
       "      <td>1202.060309</td>\n",
       "    </tr>\n",
       "    <tr>\n",
       "      <th>50%</th>\n",
       "      <td>1979.50000</td>\n",
       "      <td>60.712500</td>\n",
       "      <td>7.023596e+06</td>\n",
       "      <td>3531.846989</td>\n",
       "    </tr>\n",
       "    <tr>\n",
       "      <th>75%</th>\n",
       "      <td>1993.25000</td>\n",
       "      <td>70.845500</td>\n",
       "      <td>1.958522e+07</td>\n",
       "      <td>9325.462346</td>\n",
       "    </tr>\n",
       "    <tr>\n",
       "      <th>max</th>\n",
       "      <td>2007.00000</td>\n",
       "      <td>82.603000</td>\n",
       "      <td>1.318683e+09</td>\n",
       "      <td>113523.132900</td>\n",
       "    </tr>\n",
       "  </tbody>\n",
       "</table>\n",
       "</div>"
      ],
      "text/plain": [
       "             year      lifeExp           pop      gdpPercap\n",
       "count  1704.00000  1704.000000  1.704000e+03    1704.000000\n",
       "mean   1979.50000    59.474439  2.960121e+07    7215.327081\n",
       "std      17.26533    12.917107  1.061579e+08    9857.454543\n",
       "min    1952.00000    23.599000  6.001100e+04     241.165877\n",
       "25%    1965.75000    48.198000  2.793664e+06    1202.060309\n",
       "50%    1979.50000    60.712500  7.023596e+06    3531.846989\n",
       "75%    1993.25000    70.845500  1.958522e+07    9325.462346\n",
       "max    2007.00000    82.603000  1.318683e+09  113523.132900"
      ]
     },
     "execution_count": 50,
     "metadata": {},
     "output_type": "execute_result"
    }
   ],
   "source": [
    "df.describe()"
   ]
  },
  {
   "cell_type": "code",
   "execution_count": 52,
   "metadata": {},
   "outputs": [],
   "source": [
    "gdpPercap = df['gdpPercap']"
   ]
  },
  {
   "cell_type": "code",
   "execution_count": null,
   "metadata": {},
   "outputs": [],
   "source": [
    "gdpPercap.to_json()"
   ]
  },
  {
   "cell_type": "code",
   "execution_count": null,
   "metadata": {},
   "outputs": [],
   "source": [
    "country.to_list()"
   ]
  },
  {
   "cell_type": "code",
   "execution_count": null,
   "metadata": {},
   "outputs": [],
   "source": [
    "country.to_dict()"
   ]
  },
  {
   "cell_type": "code",
   "execution_count": 58,
   "metadata": {},
   "outputs": [
    {
     "data": {
      "text/html": [
       "<div>\n",
       "<style scoped>\n",
       "    .dataframe tbody tr th:only-of-type {\n",
       "        vertical-align: middle;\n",
       "    }\n",
       "\n",
       "    .dataframe tbody tr th {\n",
       "        vertical-align: top;\n",
       "    }\n",
       "\n",
       "    .dataframe thead th {\n",
       "        text-align: right;\n",
       "    }\n",
       "</style>\n",
       "<table border=\"1\" class=\"dataframe\">\n",
       "  <thead>\n",
       "    <tr style=\"text-align: right;\">\n",
       "      <th></th>\n",
       "      <th>country</th>\n",
       "    </tr>\n",
       "  </thead>\n",
       "  <tbody>\n",
       "    <tr>\n",
       "      <th>0</th>\n",
       "      <td>Afghanistan</td>\n",
       "    </tr>\n",
       "    <tr>\n",
       "      <th>1</th>\n",
       "      <td>Afghanistan</td>\n",
       "    </tr>\n",
       "    <tr>\n",
       "      <th>2</th>\n",
       "      <td>Afghanistan</td>\n",
       "    </tr>\n",
       "    <tr>\n",
       "      <th>3</th>\n",
       "      <td>Afghanistan</td>\n",
       "    </tr>\n",
       "    <tr>\n",
       "      <th>4</th>\n",
       "      <td>Afghanistan</td>\n",
       "    </tr>\n",
       "    <tr>\n",
       "      <th>...</th>\n",
       "      <td>...</td>\n",
       "    </tr>\n",
       "    <tr>\n",
       "      <th>1699</th>\n",
       "      <td>Zimbabwe</td>\n",
       "    </tr>\n",
       "    <tr>\n",
       "      <th>1700</th>\n",
       "      <td>Zimbabwe</td>\n",
       "    </tr>\n",
       "    <tr>\n",
       "      <th>1701</th>\n",
       "      <td>Zimbabwe</td>\n",
       "    </tr>\n",
       "    <tr>\n",
       "      <th>1702</th>\n",
       "      <td>Zimbabwe</td>\n",
       "    </tr>\n",
       "    <tr>\n",
       "      <th>1703</th>\n",
       "      <td>Zimbabwe</td>\n",
       "    </tr>\n",
       "  </tbody>\n",
       "</table>\n",
       "<p>1704 rows × 1 columns</p>\n",
       "</div>"
      ],
      "text/plain": [
       "          country\n",
       "0     Afghanistan\n",
       "1     Afghanistan\n",
       "2     Afghanistan\n",
       "3     Afghanistan\n",
       "4     Afghanistan\n",
       "...           ...\n",
       "1699     Zimbabwe\n",
       "1700     Zimbabwe\n",
       "1701     Zimbabwe\n",
       "1702     Zimbabwe\n",
       "1703     Zimbabwe\n",
       "\n",
       "[1704 rows x 1 columns]"
      ]
     },
     "execution_count": 58,
     "metadata": {},
     "output_type": "execute_result"
    }
   ],
   "source": [
    "country.to_frame()"
   ]
  },
  {
   "cell_type": "code",
   "execution_count": 60,
   "metadata": {},
   "outputs": [
    {
     "data": {
      "text/plain": [
       "method"
      ]
     },
     "execution_count": 60,
     "metadata": {},
     "output_type": "execute_result"
    }
   ],
   "source": [
    "type (country)"
   ]
  },
  {
   "cell_type": "code",
   "execution_count": 61,
   "metadata": {},
   "outputs": [
    {
     "data": {
      "text/plain": [
       "method"
      ]
     },
     "execution_count": 61,
     "metadata": {},
     "output_type": "execute_result"
    }
   ],
   "source": [
    "type (country.to_frame)  # 시리즈를 프레임으로 바꾸니까 메소드가 됨."
   ]
  },
  {
   "cell_type": "code",
   "execution_count": 62,
   "metadata": {},
   "outputs": [
    {
     "data": {
      "text/plain": [
       "\"0                    Afghanistan\\n1                    Afghanistan\\n2                    Afghanistan\\n3                    Afghanistan\\n4                    Afghanistan\\n5                    Afghanistan\\n6                    Afghanistan\\n7                    Afghanistan\\n8                    Afghanistan\\n9                    Afghanistan\\n10                   Afghanistan\\n11                   Afghanistan\\n12                       Albania\\n13                       Albania\\n14                       Albania\\n15                       Albania\\n16                       Albania\\n17                       Albania\\n18                       Albania\\n19                       Albania\\n20                       Albania\\n21                       Albania\\n22                       Albania\\n23                       Albania\\n24                       Algeria\\n25                       Algeria\\n26                       Algeria\\n27                       Algeria\\n28                       Algeria\\n29                       Algeria\\n30                       Algeria\\n31                       Algeria\\n32                       Algeria\\n33                       Algeria\\n34                       Algeria\\n35                       Algeria\\n36                        Angola\\n37                        Angola\\n38                        Angola\\n39                        Angola\\n40                        Angola\\n41                        Angola\\n42                        Angola\\n43                        Angola\\n44                        Angola\\n45                        Angola\\n46                        Angola\\n47                        Angola\\n48                     Argentina\\n49                     Argentina\\n50                     Argentina\\n51                     Argentina\\n52                     Argentina\\n53                     Argentina\\n54                     Argentina\\n55                     Argentina\\n56                     Argentina\\n57                     Argentina\\n58                     Argentina\\n59                     Argentina\\n60                     Australia\\n61                     Australia\\n62                     Australia\\n63                     Australia\\n64                     Australia\\n65                     Australia\\n66                     Australia\\n67                     Australia\\n68                     Australia\\n69                     Australia\\n70                     Australia\\n71                     Australia\\n72                       Austria\\n73                       Austria\\n74                       Austria\\n75                       Austria\\n76                       Austria\\n77                       Austria\\n78                       Austria\\n79                       Austria\\n80                       Austria\\n81                       Austria\\n82                       Austria\\n83                       Austria\\n84                       Bahrain\\n85                       Bahrain\\n86                       Bahrain\\n87                       Bahrain\\n88                       Bahrain\\n89                       Bahrain\\n90                       Bahrain\\n91                       Bahrain\\n92                       Bahrain\\n93                       Bahrain\\n94                       Bahrain\\n95                       Bahrain\\n96                    Bangladesh\\n97                    Bangladesh\\n98                    Bangladesh\\n99                    Bangladesh\\n100                   Bangladesh\\n101                   Bangladesh\\n102                   Bangladesh\\n103                   Bangladesh\\n104                   Bangladesh\\n105                   Bangladesh\\n106                   Bangladesh\\n107                   Bangladesh\\n108                      Belgium\\n109                      Belgium\\n110                      Belgium\\n111                      Belgium\\n112                      Belgium\\n113                      Belgium\\n114                      Belgium\\n115                      Belgium\\n116                      Belgium\\n117                      Belgium\\n118                      Belgium\\n119                      Belgium\\n120                        Benin\\n121                        Benin\\n122                        Benin\\n123                        Benin\\n124                        Benin\\n125                        Benin\\n126                        Benin\\n127                        Benin\\n128                        Benin\\n129                        Benin\\n130                        Benin\\n131                        Benin\\n132                      Bolivia\\n133                      Bolivia\\n134                      Bolivia\\n135                      Bolivia\\n136                      Bolivia\\n137                      Bolivia\\n138                      Bolivia\\n139                      Bolivia\\n140                      Bolivia\\n141                      Bolivia\\n142                      Bolivia\\n143                      Bolivia\\n144       Bosnia and Herzegovina\\n145       Bosnia and Herzegovina\\n146       Bosnia and Herzegovina\\n147       Bosnia and Herzegovina\\n148       Bosnia and Herzegovina\\n149       Bosnia and Herzegovina\\n150       Bosnia and Herzegovina\\n151       Bosnia and Herzegovina\\n152       Bosnia and Herzegovina\\n153       Bosnia and Herzegovina\\n154       Bosnia and Herzegovina\\n155       Bosnia and Herzegovina\\n156                     Botswana\\n157                     Botswana\\n158                     Botswana\\n159                     Botswana\\n160                     Botswana\\n161                     Botswana\\n162                     Botswana\\n163                     Botswana\\n164                     Botswana\\n165                     Botswana\\n166                     Botswana\\n167                     Botswana\\n168                       Brazil\\n169                       Brazil\\n170                       Brazil\\n171                       Brazil\\n172                       Brazil\\n173                       Brazil\\n174                       Brazil\\n175                       Brazil\\n176                       Brazil\\n177                       Brazil\\n178                       Brazil\\n179                       Brazil\\n180                     Bulgaria\\n181                     Bulgaria\\n182                     Bulgaria\\n183                     Bulgaria\\n184                     Bulgaria\\n185                     Bulgaria\\n186                     Bulgaria\\n187                     Bulgaria\\n188                     Bulgaria\\n189                     Bulgaria\\n190                     Bulgaria\\n191                     Bulgaria\\n192                 Burkina Faso\\n193                 Burkina Faso\\n194                 Burkina Faso\\n195                 Burkina Faso\\n196                 Burkina Faso\\n197                 Burkina Faso\\n198                 Burkina Faso\\n199                 Burkina Faso\\n200                 Burkina Faso\\n201                 Burkina Faso\\n202                 Burkina Faso\\n203                 Burkina Faso\\n204                      Burundi\\n205                      Burundi\\n206                      Burundi\\n207                      Burundi\\n208                      Burundi\\n209                      Burundi\\n210                      Burundi\\n211                      Burundi\\n212                      Burundi\\n213                      Burundi\\n214                      Burundi\\n215                      Burundi\\n216                     Cambodia\\n217                     Cambodia\\n218                     Cambodia\\n219                     Cambodia\\n220                     Cambodia\\n221                     Cambodia\\n222                     Cambodia\\n223                     Cambodia\\n224                     Cambodia\\n225                     Cambodia\\n226                     Cambodia\\n227                     Cambodia\\n228                     Cameroon\\n229                     Cameroon\\n230                     Cameroon\\n231                     Cameroon\\n232                     Cameroon\\n233                     Cameroon\\n234                     Cameroon\\n235                     Cameroon\\n236                     Cameroon\\n237                     Cameroon\\n238                     Cameroon\\n239                     Cameroon\\n240                       Canada\\n241                       Canada\\n242                       Canada\\n243                       Canada\\n244                       Canada\\n245                       Canada\\n246                       Canada\\n247                       Canada\\n248                       Canada\\n249                       Canada\\n250                       Canada\\n251                       Canada\\n252     Central African Republic\\n253     Central African Republic\\n254     Central African Republic\\n255     Central African Republic\\n256     Central African Republic\\n257     Central African Republic\\n258     Central African Republic\\n259     Central African Republic\\n260     Central African Republic\\n261     Central African Republic\\n262     Central African Republic\\n263     Central African Republic\\n264                         Chad\\n265                         Chad\\n266                         Chad\\n267                         Chad\\n268                         Chad\\n269                         Chad\\n270                         Chad\\n271                         Chad\\n272                         Chad\\n273                         Chad\\n274                         Chad\\n275                         Chad\\n276                        Chile\\n277                        Chile\\n278                        Chile\\n279                        Chile\\n280                        Chile\\n281                        Chile\\n282                        Chile\\n283                        Chile\\n284                        Chile\\n285                        Chile\\n286                        Chile\\n287                        Chile\\n288                        China\\n289                        China\\n290                        China\\n291                        China\\n292                        China\\n293                        China\\n294                        China\\n295                        China\\n296                        China\\n297                        China\\n298                        China\\n299                        China\\n300                     Colombia\\n301                     Colombia\\n302                     Colombia\\n303                     Colombia\\n304                     Colombia\\n305                     Colombia\\n306                     Colombia\\n307                     Colombia\\n308                     Colombia\\n309                     Colombia\\n310                     Colombia\\n311                     Colombia\\n312                      Comoros\\n313                      Comoros\\n314                      Comoros\\n315                      Comoros\\n316                      Comoros\\n317                      Comoros\\n318                      Comoros\\n319                      Comoros\\n320                      Comoros\\n321                      Comoros\\n322                      Comoros\\n323                      Comoros\\n324             Congo, Dem. Rep.\\n325             Congo, Dem. Rep.\\n326             Congo, Dem. Rep.\\n327             Congo, Dem. Rep.\\n328             Congo, Dem. Rep.\\n329             Congo, Dem. Rep.\\n330             Congo, Dem. Rep.\\n331             Congo, Dem. Rep.\\n332             Congo, Dem. Rep.\\n333             Congo, Dem. Rep.\\n334             Congo, Dem. Rep.\\n335             Congo, Dem. Rep.\\n336                  Congo, Rep.\\n337                  Congo, Rep.\\n338                  Congo, Rep.\\n339                  Congo, Rep.\\n340                  Congo, Rep.\\n341                  Congo, Rep.\\n342                  Congo, Rep.\\n343                  Congo, Rep.\\n344                  Congo, Rep.\\n345                  Congo, Rep.\\n346                  Congo, Rep.\\n347                  Congo, Rep.\\n348                   Costa Rica\\n349                   Costa Rica\\n350                   Costa Rica\\n351                   Costa Rica\\n352                   Costa Rica\\n353                   Costa Rica\\n354                   Costa Rica\\n355                   Costa Rica\\n356                   Costa Rica\\n357                   Costa Rica\\n358                   Costa Rica\\n359                   Costa Rica\\n360                Cote d'Ivoire\\n361                Cote d'Ivoire\\n362                Cote d'Ivoire\\n363                Cote d'Ivoire\\n364                Cote d'Ivoire\\n365                Cote d'Ivoire\\n366                Cote d'Ivoire\\n367                Cote d'Ivoire\\n368                Cote d'Ivoire\\n369                Cote d'Ivoire\\n370                Cote d'Ivoire\\n371                Cote d'Ivoire\\n372                      Croatia\\n373                      Croatia\\n374                      Croatia\\n375                      Croatia\\n376                      Croatia\\n377                      Croatia\\n378                      Croatia\\n379                      Croatia\\n380                      Croatia\\n381                      Croatia\\n382                      Croatia\\n383                      Croatia\\n384                         Cuba\\n385                         Cuba\\n386                         Cuba\\n387                         Cuba\\n388                         Cuba\\n389                         Cuba\\n390                         Cuba\\n391                         Cuba\\n392                         Cuba\\n393                         Cuba\\n394                         Cuba\\n395                         Cuba\\n396               Czech Republic\\n397               Czech Republic\\n398               Czech Republic\\n399               Czech Republic\\n400               Czech Republic\\n401               Czech Republic\\n402               Czech Republic\\n403               Czech Republic\\n404               Czech Republic\\n405               Czech Republic\\n406               Czech Republic\\n407               Czech Republic\\n408                      Denmark\\n409                      Denmark\\n410                      Denmark\\n411                      Denmark\\n412                      Denmark\\n413                      Denmark\\n414                      Denmark\\n415                      Denmark\\n416                      Denmark\\n417                      Denmark\\n418                      Denmark\\n419                      Denmark\\n420                     Djibouti\\n421                     Djibouti\\n422                     Djibouti\\n423                     Djibouti\\n424                     Djibouti\\n425                     Djibouti\\n426                     Djibouti\\n427                     Djibouti\\n428                     Djibouti\\n429                     Djibouti\\n430                     Djibouti\\n431                     Djibouti\\n432           Dominican Republic\\n433           Dominican Republic\\n434           Dominican Republic\\n435           Dominican Republic\\n436           Dominican Republic\\n437           Dominican Republic\\n438           Dominican Republic\\n439           Dominican Republic\\n440           Dominican Republic\\n441           Dominican Republic\\n442           Dominican Republic\\n443           Dominican Republic\\n444                      Ecuador\\n445                      Ecuador\\n446                      Ecuador\\n447                      Ecuador\\n448                      Ecuador\\n449                      Ecuador\\n450                      Ecuador\\n451                      Ecuador\\n452                      Ecuador\\n453                      Ecuador\\n454                      Ecuador\\n455                      Ecuador\\n456                        Egypt\\n457                        Egypt\\n458                        Egypt\\n459                        Egypt\\n460                        Egypt\\n461                        Egypt\\n462                        Egypt\\n463                        Egypt\\n464                        Egypt\\n465                        Egypt\\n466                        Egypt\\n467                        Egypt\\n468                  El Salvador\\n469                  El Salvador\\n470                  El Salvador\\n471                  El Salvador\\n472                  El Salvador\\n473                  El Salvador\\n474                  El Salvador\\n475                  El Salvador\\n476                  El Salvador\\n477                  El Salvador\\n478                  El Salvador\\n479                  El Salvador\\n480            Equatorial Guinea\\n481            Equatorial Guinea\\n482            Equatorial Guinea\\n483            Equatorial Guinea\\n484            Equatorial Guinea\\n485            Equatorial Guinea\\n486            Equatorial Guinea\\n487            Equatorial Guinea\\n488            Equatorial Guinea\\n489            Equatorial Guinea\\n490            Equatorial Guinea\\n491            Equatorial Guinea\\n492                      Eritrea\\n493                      Eritrea\\n494                      Eritrea\\n495                      Eritrea\\n496                      Eritrea\\n497                      Eritrea\\n498                      Eritrea\\n499                      Eritrea\\n500                      Eritrea\\n501                      Eritrea\\n502                      Eritrea\\n503                      Eritrea\\n504                     Ethiopia\\n505                     Ethiopia\\n506                     Ethiopia\\n507                     Ethiopia\\n508                     Ethiopia\\n509                     Ethiopia\\n510                     Ethiopia\\n511                     Ethiopia\\n512                     Ethiopia\\n513                     Ethiopia\\n514                     Ethiopia\\n515                     Ethiopia\\n516                      Finland\\n517                      Finland\\n518                      Finland\\n519                      Finland\\n520                      Finland\\n521                      Finland\\n522                      Finland\\n523                      Finland\\n524                      Finland\\n525                      Finland\\n526                      Finland\\n527                      Finland\\n528                       France\\n529                       France\\n530                       France\\n531                       France\\n532                       France\\n533                       France\\n534                       France\\n535                       France\\n536                       France\\n537                       France\\n538                       France\\n539                       France\\n540                        Gabon\\n541                        Gabon\\n542                        Gabon\\n543                        Gabon\\n544                        Gabon\\n545                        Gabon\\n546                        Gabon\\n547                        Gabon\\n548                        Gabon\\n549                        Gabon\\n550                        Gabon\\n551                        Gabon\\n552                       Gambia\\n553                       Gambia\\n554                       Gambia\\n555                       Gambia\\n556                       Gambia\\n557                       Gambia\\n558                       Gambia\\n559                       Gambia\\n560                       Gambia\\n561                       Gambia\\n562                       Gambia\\n563                       Gambia\\n564                      Germany\\n565                      Germany\\n566                      Germany\\n567                      Germany\\n568                      Germany\\n569                      Germany\\n570                      Germany\\n571                      Germany\\n572                      Germany\\n573                      Germany\\n574                      Germany\\n575                      Germany\\n576                        Ghana\\n577                        Ghana\\n578                        Ghana\\n579                        Ghana\\n580                        Ghana\\n581                        Ghana\\n582                        Ghana\\n583                        Ghana\\n584                        Ghana\\n585                        Ghana\\n586                        Ghana\\n587                        Ghana\\n588                       Greece\\n589                       Greece\\n590                       Greece\\n591                       Greece\\n592                       Greece\\n593                       Greece\\n594                       Greece\\n595                       Greece\\n596                       Greece\\n597                       Greece\\n598                       Greece\\n599                       Greece\\n600                    Guatemala\\n601                    Guatemala\\n602                    Guatemala\\n603                    Guatemala\\n604                    Guatemala\\n605                    Guatemala\\n606                    Guatemala\\n607                    Guatemala\\n608                    Guatemala\\n609                    Guatemala\\n610                    Guatemala\\n611                    Guatemala\\n612                       Guinea\\n613                       Guinea\\n614                       Guinea\\n615                       Guinea\\n616                       Guinea\\n617                       Guinea\\n618                       Guinea\\n619                       Guinea\\n620                       Guinea\\n621                       Guinea\\n622                       Guinea\\n623                       Guinea\\n624                Guinea-Bissau\\n625                Guinea-Bissau\\n626                Guinea-Bissau\\n627                Guinea-Bissau\\n628                Guinea-Bissau\\n629                Guinea-Bissau\\n630                Guinea-Bissau\\n631                Guinea-Bissau\\n632                Guinea-Bissau\\n633                Guinea-Bissau\\n634                Guinea-Bissau\\n635                Guinea-Bissau\\n636                        Haiti\\n637                        Haiti\\n638                        Haiti\\n639                        Haiti\\n640                        Haiti\\n641                        Haiti\\n642                        Haiti\\n643                        Haiti\\n644                        Haiti\\n645                        Haiti\\n646                        Haiti\\n647                        Haiti\\n648                     Honduras\\n649                     Honduras\\n650                     Honduras\\n651                     Honduras\\n652                     Honduras\\n653                     Honduras\\n654                     Honduras\\n655                     Honduras\\n656                     Honduras\\n657                     Honduras\\n658                     Honduras\\n659                     Honduras\\n660             Hong Kong, China\\n661             Hong Kong, China\\n662             Hong Kong, China\\n663             Hong Kong, China\\n664             Hong Kong, China\\n665             Hong Kong, China\\n666             Hong Kong, China\\n667             Hong Kong, China\\n668             Hong Kong, China\\n669             Hong Kong, China\\n670             Hong Kong, China\\n671             Hong Kong, China\\n672                      Hungary\\n673                      Hungary\\n674                      Hungary\\n675                      Hungary\\n676                      Hungary\\n677                      Hungary\\n678                      Hungary\\n679                      Hungary\\n680                      Hungary\\n681                      Hungary\\n682                      Hungary\\n683                      Hungary\\n684                      Iceland\\n685                      Iceland\\n686                      Iceland\\n687                      Iceland\\n688                      Iceland\\n689                      Iceland\\n690                      Iceland\\n691                      Iceland\\n692                      Iceland\\n693                      Iceland\\n694                      Iceland\\n695                      Iceland\\n696                        India\\n697                        India\\n698                        India\\n699                        India\\n700                        India\\n701                        India\\n702                        India\\n703                        India\\n704                        India\\n705                        India\\n706                        India\\n707                        India\\n708                    Indonesia\\n709                    Indonesia\\n710                    Indonesia\\n711                    Indonesia\\n712                    Indonesia\\n713                    Indonesia\\n714                    Indonesia\\n715                    Indonesia\\n716                    Indonesia\\n717                    Indonesia\\n718                    Indonesia\\n719                    Indonesia\\n720                         Iran\\n721                         Iran\\n722                         Iran\\n723                         Iran\\n724                         Iran\\n725                         Iran\\n726                         Iran\\n727                         Iran\\n728                         Iran\\n729                         Iran\\n730                         Iran\\n731                         Iran\\n732                         Iraq\\n733                         Iraq\\n734                         Iraq\\n735                         Iraq\\n736                         Iraq\\n737                         Iraq\\n738                         Iraq\\n739                         Iraq\\n740                         Iraq\\n741                         Iraq\\n742                         Iraq\\n743                         Iraq\\n744                      Ireland\\n745                      Ireland\\n746                      Ireland\\n747                      Ireland\\n748                      Ireland\\n749                      Ireland\\n750                      Ireland\\n751                      Ireland\\n752                      Ireland\\n753                      Ireland\\n754                      Ireland\\n755                      Ireland\\n756                       Israel\\n757                       Israel\\n758                       Israel\\n759                       Israel\\n760                       Israel\\n761                       Israel\\n762                       Israel\\n763                       Israel\\n764                       Israel\\n765                       Israel\\n766                       Israel\\n767                       Israel\\n768                        Italy\\n769                        Italy\\n770                        Italy\\n771                        Italy\\n772                        Italy\\n773                        Italy\\n774                        Italy\\n775                        Italy\\n776                        Italy\\n777                        Italy\\n778                        Italy\\n779                        Italy\\n780                      Jamaica\\n781                      Jamaica\\n782                      Jamaica\\n783                      Jamaica\\n784                      Jamaica\\n785                      Jamaica\\n786                      Jamaica\\n787                      Jamaica\\n788                      Jamaica\\n789                      Jamaica\\n790                      Jamaica\\n791                      Jamaica\\n792                        Japan\\n793                        Japan\\n794                        Japan\\n795                        Japan\\n796                        Japan\\n797                        Japan\\n798                        Japan\\n799                        Japan\\n800                        Japan\\n801                        Japan\\n802                        Japan\\n803                        Japan\\n804                       Jordan\\n805                       Jordan\\n806                       Jordan\\n807                       Jordan\\n808                       Jordan\\n809                       Jordan\\n810                       Jordan\\n811                       Jordan\\n812                       Jordan\\n813                       Jordan\\n814                       Jordan\\n815                       Jordan\\n816                        Kenya\\n817                        Kenya\\n818                        Kenya\\n819                        Kenya\\n820                        Kenya\\n821                        Kenya\\n822                        Kenya\\n823                        Kenya\\n824                        Kenya\\n825                        Kenya\\n826                        Kenya\\n827                        Kenya\\n828             Korea, Dem. Rep.\\n829             Korea, Dem. Rep.\\n830             Korea, Dem. Rep.\\n831             Korea, Dem. Rep.\\n832             Korea, Dem. Rep.\\n833             Korea, Dem. Rep.\\n834             Korea, Dem. Rep.\\n835             Korea, Dem. Rep.\\n836             Korea, Dem. Rep.\\n837             Korea, Dem. Rep.\\n838             Korea, Dem. Rep.\\n839             Korea, Dem. Rep.\\n840                  Korea, Rep.\\n841                  Korea, Rep.\\n842                  Korea, Rep.\\n843                  Korea, Rep.\\n844                  Korea, Rep.\\n845                  Korea, Rep.\\n846                  Korea, Rep.\\n847                  Korea, Rep.\\n848                  Korea, Rep.\\n849                  Korea, Rep.\\n850                  Korea, Rep.\\n851                  Korea, Rep.\\n852                       Kuwait\\n853                       Kuwait\\n854                       Kuwait\\n855                       Kuwait\\n856                       Kuwait\\n857                       Kuwait\\n858                       Kuwait\\n859                       Kuwait\\n860                       Kuwait\\n861                       Kuwait\\n862                       Kuwait\\n863                       Kuwait\\n864                      Lebanon\\n865                      Lebanon\\n866                      Lebanon\\n867                      Lebanon\\n868                      Lebanon\\n869                      Lebanon\\n870                      Lebanon\\n871                      Lebanon\\n872                      Lebanon\\n873                      Lebanon\\n874                      Lebanon\\n875                      Lebanon\\n876                      Lesotho\\n877                      Lesotho\\n878                      Lesotho\\n879                      Lesotho\\n880                      Lesotho\\n881                      Lesotho\\n882                      Lesotho\\n883                      Lesotho\\n884                      Lesotho\\n885                      Lesotho\\n886                      Lesotho\\n887                      Lesotho\\n888                      Liberia\\n889                      Liberia\\n890                      Liberia\\n891                      Liberia\\n892                      Liberia\\n893                      Liberia\\n894                      Liberia\\n895                      Liberia\\n896                      Liberia\\n897                      Liberia\\n898                      Liberia\\n899                      Liberia\\n900                        Libya\\n901                        Libya\\n902                        Libya\\n903                        Libya\\n904                        Libya\\n905                        Libya\\n906                        Libya\\n907                        Libya\\n908                        Libya\\n909                        Libya\\n910                        Libya\\n911                        Libya\\n912                   Madagascar\\n913                   Madagascar\\n914                   Madagascar\\n915                   Madagascar\\n916                   Madagascar\\n917                   Madagascar\\n918                   Madagascar\\n919                   Madagascar\\n920                   Madagascar\\n921                   Madagascar\\n922                   Madagascar\\n923                   Madagascar\\n924                       Malawi\\n925                       Malawi\\n926                       Malawi\\n927                       Malawi\\n928                       Malawi\\n929                       Malawi\\n930                       Malawi\\n931                       Malawi\\n932                       Malawi\\n933                       Malawi\\n934                       Malawi\\n935                       Malawi\\n936                     Malaysia\\n937                     Malaysia\\n938                     Malaysia\\n939                     Malaysia\\n940                     Malaysia\\n941                     Malaysia\\n942                     Malaysia\\n943                     Malaysia\\n944                     Malaysia\\n945                     Malaysia\\n946                     Malaysia\\n947                     Malaysia\\n948                         Mali\\n949                         Mali\\n950                         Mali\\n951                         Mali\\n952                         Mali\\n953                         Mali\\n954                         Mali\\n955                         Mali\\n956                         Mali\\n957                         Mali\\n958                         Mali\\n959                         Mali\\n960                   Mauritania\\n961                   Mauritania\\n962                   Mauritania\\n963                   Mauritania\\n964                   Mauritania\\n965                   Mauritania\\n966                   Mauritania\\n967                   Mauritania\\n968                   Mauritania\\n969                   Mauritania\\n970                   Mauritania\\n971                   Mauritania\\n972                    Mauritius\\n973                    Mauritius\\n974                    Mauritius\\n975                    Mauritius\\n976                    Mauritius\\n977                    Mauritius\\n978                    Mauritius\\n979                    Mauritius\\n980                    Mauritius\\n981                    Mauritius\\n982                    Mauritius\\n983                    Mauritius\\n984                       Mexico\\n985                       Mexico\\n986                       Mexico\\n987                       Mexico\\n988                       Mexico\\n989                       Mexico\\n990                       Mexico\\n991                       Mexico\\n992                       Mexico\\n993                       Mexico\\n994                       Mexico\\n995                       Mexico\\n996                     Mongolia\\n997                     Mongolia\\n998                     Mongolia\\n999                     Mongolia\\n1000                    Mongolia\\n1001                    Mongolia\\n1002                    Mongolia\\n1003                    Mongolia\\n1004                    Mongolia\\n1005                    Mongolia\\n1006                    Mongolia\\n1007                    Mongolia\\n1008                  Montenegro\\n1009                  Montenegro\\n1010                  Montenegro\\n1011                  Montenegro\\n1012                  Montenegro\\n1013                  Montenegro\\n1014                  Montenegro\\n1015                  Montenegro\\n1016                  Montenegro\\n1017                  Montenegro\\n1018                  Montenegro\\n1019                  Montenegro\\n1020                     Morocco\\n1021                     Morocco\\n1022                     Morocco\\n1023                     Morocco\\n1024                     Morocco\\n1025                     Morocco\\n1026                     Morocco\\n1027                     Morocco\\n1028                     Morocco\\n1029                     Morocco\\n1030                     Morocco\\n1031                     Morocco\\n1032                  Mozambique\\n1033                  Mozambique\\n1034                  Mozambique\\n1035                  Mozambique\\n1036                  Mozambique\\n1037                  Mozambique\\n1038                  Mozambique\\n1039                  Mozambique\\n1040                  Mozambique\\n1041                  Mozambique\\n1042                  Mozambique\\n1043                  Mozambique\\n1044                     Myanmar\\n1045                     Myanmar\\n1046                     Myanmar\\n1047                     Myanmar\\n1048                     Myanmar\\n1049                     Myanmar\\n1050                     Myanmar\\n1051                     Myanmar\\n1052                     Myanmar\\n1053                     Myanmar\\n1054                     Myanmar\\n1055                     Myanmar\\n1056                     Namibia\\n1057                     Namibia\\n1058                     Namibia\\n1059                     Namibia\\n1060                     Namibia\\n1061                     Namibia\\n1062                     Namibia\\n1063                     Namibia\\n1064                     Namibia\\n1065                     Namibia\\n1066                     Namibia\\n1067                     Namibia\\n1068                       Nepal\\n1069                       Nepal\\n1070                       Nepal\\n1071                       Nepal\\n1072                       Nepal\\n1073                       Nepal\\n1074                       Nepal\\n1075                       Nepal\\n1076                       Nepal\\n1077                       Nepal\\n1078                       Nepal\\n1079                       Nepal\\n1080                 Netherlands\\n1081                 Netherlands\\n1082                 Netherlands\\n1083                 Netherlands\\n1084                 Netherlands\\n1085                 Netherlands\\n1086                 Netherlands\\n1087                 Netherlands\\n1088                 Netherlands\\n1089                 Netherlands\\n1090                 Netherlands\\n1091                 Netherlands\\n1092                 New Zealand\\n1093                 New Zealand\\n1094                 New Zealand\\n1095                 New Zealand\\n1096                 New Zealand\\n1097                 New Zealand\\n1098                 New Zealand\\n1099                 New Zealand\\n1100                 New Zealand\\n1101                 New Zealand\\n1102                 New Zealand\\n1103                 New Zealand\\n1104                   Nicaragua\\n1105                   Nicaragua\\n1106                   Nicaragua\\n1107                   Nicaragua\\n1108                   Nicaragua\\n1109                   Nicaragua\\n1110                   Nicaragua\\n1111                   Nicaragua\\n1112                   Nicaragua\\n1113                   Nicaragua\\n1114                   Nicaragua\\n1115                   Nicaragua\\n1116                       Niger\\n1117                       Niger\\n1118                       Niger\\n1119                       Niger\\n1120                       Niger\\n1121                       Niger\\n1122                       Niger\\n1123                       Niger\\n1124                       Niger\\n1125                       Niger\\n1126                       Niger\\n1127                       Niger\\n1128                     Nigeria\\n1129                     Nigeria\\n1130                     Nigeria\\n1131                     Nigeria\\n1132                     Nigeria\\n1133                     Nigeria\\n1134                     Nigeria\\n1135                     Nigeria\\n1136                     Nigeria\\n1137                     Nigeria\\n1138                     Nigeria\\n1139                     Nigeria\\n1140                      Norway\\n1141                      Norway\\n1142                      Norway\\n1143                      Norway\\n1144                      Norway\\n1145                      Norway\\n1146                      Norway\\n1147                      Norway\\n1148                      Norway\\n1149                      Norway\\n1150                      Norway\\n1151                      Norway\\n1152                        Oman\\n1153                        Oman\\n1154                        Oman\\n1155                        Oman\\n1156                        Oman\\n1157                        Oman\\n1158                        Oman\\n1159                        Oman\\n1160                        Oman\\n1161                        Oman\\n1162                        Oman\\n1163                        Oman\\n1164                    Pakistan\\n1165                    Pakistan\\n1166                    Pakistan\\n1167                    Pakistan\\n1168                    Pakistan\\n1169                    Pakistan\\n1170                    Pakistan\\n1171                    Pakistan\\n1172                    Pakistan\\n1173                    Pakistan\\n1174                    Pakistan\\n1175                    Pakistan\\n1176                      Panama\\n1177                      Panama\\n1178                      Panama\\n1179                      Panama\\n1180                      Panama\\n1181                      Panama\\n1182                      Panama\\n1183                      Panama\\n1184                      Panama\\n1185                      Panama\\n1186                      Panama\\n1187                      Panama\\n1188                    Paraguay\\n1189                    Paraguay\\n1190                    Paraguay\\n1191                    Paraguay\\n1192                    Paraguay\\n1193                    Paraguay\\n1194                    Paraguay\\n1195                    Paraguay\\n1196                    Paraguay\\n1197                    Paraguay\\n1198                    Paraguay\\n1199                    Paraguay\\n1200                        Peru\\n1201                        Peru\\n1202                        Peru\\n1203                        Peru\\n1204                        Peru\\n1205                        Peru\\n1206                        Peru\\n1207                        Peru\\n1208                        Peru\\n1209                        Peru\\n1210                        Peru\\n1211                        Peru\\n1212                 Philippines\\n1213                 Philippines\\n1214                 Philippines\\n1215                 Philippines\\n1216                 Philippines\\n1217                 Philippines\\n1218                 Philippines\\n1219                 Philippines\\n1220                 Philippines\\n1221                 Philippines\\n1222                 Philippines\\n1223                 Philippines\\n1224                      Poland\\n1225                      Poland\\n1226                      Poland\\n1227                      Poland\\n1228                      Poland\\n1229                      Poland\\n1230                      Poland\\n1231                      Poland\\n1232                      Poland\\n1233                      Poland\\n1234                      Poland\\n1235                      Poland\\n1236                    Portugal\\n1237                    Portugal\\n1238                    Portugal\\n1239                    Portugal\\n1240                    Portugal\\n1241                    Portugal\\n1242                    Portugal\\n1243                    Portugal\\n1244                    Portugal\\n1245                    Portugal\\n1246                    Portugal\\n1247                    Portugal\\n1248                 Puerto Rico\\n1249                 Puerto Rico\\n1250                 Puerto Rico\\n1251                 Puerto Rico\\n1252                 Puerto Rico\\n1253                 Puerto Rico\\n1254                 Puerto Rico\\n1255                 Puerto Rico\\n1256                 Puerto Rico\\n1257                 Puerto Rico\\n1258                 Puerto Rico\\n1259                 Puerto Rico\\n1260                     Reunion\\n1261                     Reunion\\n1262                     Reunion\\n1263                     Reunion\\n1264                     Reunion\\n1265                     Reunion\\n1266                     Reunion\\n1267                     Reunion\\n1268                     Reunion\\n1269                     Reunion\\n1270                     Reunion\\n1271                     Reunion\\n1272                     Romania\\n1273                     Romania\\n1274                     Romania\\n1275                     Romania\\n1276                     Romania\\n1277                     Romania\\n1278                     Romania\\n1279                     Romania\\n1280                     Romania\\n1281                     Romania\\n1282                     Romania\\n1283                     Romania\\n1284                      Rwanda\\n1285                      Rwanda\\n1286                      Rwanda\\n1287                      Rwanda\\n1288                      Rwanda\\n1289                      Rwanda\\n1290                      Rwanda\\n1291                      Rwanda\\n1292                      Rwanda\\n1293                      Rwanda\\n1294                      Rwanda\\n1295                      Rwanda\\n1296       Sao Tome and Principe\\n1297       Sao Tome and Principe\\n1298       Sao Tome and Principe\\n1299       Sao Tome and Principe\\n1300       Sao Tome and Principe\\n1301       Sao Tome and Principe\\n1302       Sao Tome and Principe\\n1303       Sao Tome and Principe\\n1304       Sao Tome and Principe\\n1305       Sao Tome and Principe\\n1306       Sao Tome and Principe\\n1307       Sao Tome and Principe\\n1308                Saudi Arabia\\n1309                Saudi Arabia\\n1310                Saudi Arabia\\n1311                Saudi Arabia\\n1312                Saudi Arabia\\n1313                Saudi Arabia\\n1314                Saudi Arabia\\n1315                Saudi Arabia\\n1316                Saudi Arabia\\n1317                Saudi Arabia\\n1318                Saudi Arabia\\n1319                Saudi Arabia\\n1320                     Senegal\\n1321                     Senegal\\n1322                     Senegal\\n1323                     Senegal\\n1324                     Senegal\\n1325                     Senegal\\n1326                     Senegal\\n1327                     Senegal\\n1328                     Senegal\\n1329                     Senegal\\n1330                     Senegal\\n1331                     Senegal\\n1332                      Serbia\\n1333                      Serbia\\n1334                      Serbia\\n1335                      Serbia\\n1336                      Serbia\\n1337                      Serbia\\n1338                      Serbia\\n1339                      Serbia\\n1340                      Serbia\\n1341                      Serbia\\n1342                      Serbia\\n1343                      Serbia\\n1344                Sierra Leone\\n1345                Sierra Leone\\n1346                Sierra Leone\\n1347                Sierra Leone\\n1348                Sierra Leone\\n1349                Sierra Leone\\n1350                Sierra Leone\\n1351                Sierra Leone\\n1352                Sierra Leone\\n1353                Sierra Leone\\n1354                Sierra Leone\\n1355                Sierra Leone\\n1356                   Singapore\\n1357                   Singapore\\n1358                   Singapore\\n1359                   Singapore\\n1360                   Singapore\\n1361                   Singapore\\n1362                   Singapore\\n1363                   Singapore\\n1364                   Singapore\\n1365                   Singapore\\n1366                   Singapore\\n1367                   Singapore\\n1368             Slovak Republic\\n1369             Slovak Republic\\n1370             Slovak Republic\\n1371             Slovak Republic\\n1372             Slovak Republic\\n1373             Slovak Republic\\n1374             Slovak Republic\\n1375             Slovak Republic\\n1376             Slovak Republic\\n1377             Slovak Republic\\n1378             Slovak Republic\\n1379             Slovak Republic\\n1380                    Slovenia\\n1381                    Slovenia\\n1382                    Slovenia\\n1383                    Slovenia\\n1384                    Slovenia\\n1385                    Slovenia\\n1386                    Slovenia\\n1387                    Slovenia\\n1388                    Slovenia\\n1389                    Slovenia\\n1390                    Slovenia\\n1391                    Slovenia\\n1392                     Somalia\\n1393                     Somalia\\n1394                     Somalia\\n1395                     Somalia\\n1396                     Somalia\\n1397                     Somalia\\n1398                     Somalia\\n1399                     Somalia\\n1400                     Somalia\\n1401                     Somalia\\n1402                     Somalia\\n1403                     Somalia\\n1404                South Africa\\n1405                South Africa\\n1406                South Africa\\n1407                South Africa\\n1408                South Africa\\n1409                South Africa\\n1410                South Africa\\n1411                South Africa\\n1412                South Africa\\n1413                South Africa\\n1414                South Africa\\n1415                South Africa\\n1416                       Spain\\n1417                       Spain\\n1418                       Spain\\n1419                       Spain\\n1420                       Spain\\n1421                       Spain\\n1422                       Spain\\n1423                       Spain\\n1424                       Spain\\n1425                       Spain\\n1426                       Spain\\n1427                       Spain\\n1428                   Sri Lanka\\n1429                   Sri Lanka\\n1430                   Sri Lanka\\n1431                   Sri Lanka\\n1432                   Sri Lanka\\n1433                   Sri Lanka\\n1434                   Sri Lanka\\n1435                   Sri Lanka\\n1436                   Sri Lanka\\n1437                   Sri Lanka\\n1438                   Sri Lanka\\n1439                   Sri Lanka\\n1440                       Sudan\\n1441                       Sudan\\n1442                       Sudan\\n1443                       Sudan\\n1444                       Sudan\\n1445                       Sudan\\n1446                       Sudan\\n1447                       Sudan\\n1448                       Sudan\\n1449                       Sudan\\n1450                       Sudan\\n1451                       Sudan\\n1452                   Swaziland\\n1453                   Swaziland\\n1454                   Swaziland\\n1455                   Swaziland\\n1456                   Swaziland\\n1457                   Swaziland\\n1458                   Swaziland\\n1459                   Swaziland\\n1460                   Swaziland\\n1461                   Swaziland\\n1462                   Swaziland\\n1463                   Swaziland\\n1464                      Sweden\\n1465                      Sweden\\n1466                      Sweden\\n1467                      Sweden\\n1468                      Sweden\\n1469                      Sweden\\n1470                      Sweden\\n1471                      Sweden\\n1472                      Sweden\\n1473                      Sweden\\n1474                      Sweden\\n1475                      Sweden\\n1476                 Switzerland\\n1477                 Switzerland\\n1478                 Switzerland\\n1479                 Switzerland\\n1480                 Switzerland\\n1481                 Switzerland\\n1482                 Switzerland\\n1483                 Switzerland\\n1484                 Switzerland\\n1485                 Switzerland\\n1486                 Switzerland\\n1487                 Switzerland\\n1488                       Syria\\n1489                       Syria\\n1490                       Syria\\n1491                       Syria\\n1492                       Syria\\n1493                       Syria\\n1494                       Syria\\n1495                       Syria\\n1496                       Syria\\n1497                       Syria\\n1498                       Syria\\n1499                       Syria\\n1500                      Taiwan\\n1501                      Taiwan\\n1502                      Taiwan\\n1503                      Taiwan\\n1504                      Taiwan\\n1505                      Taiwan\\n1506                      Taiwan\\n1507                      Taiwan\\n1508                      Taiwan\\n1509                      Taiwan\\n1510                      Taiwan\\n1511                      Taiwan\\n1512                    Tanzania\\n1513                    Tanzania\\n1514                    Tanzania\\n1515                    Tanzania\\n1516                    Tanzania\\n1517                    Tanzania\\n1518                    Tanzania\\n1519                    Tanzania\\n1520                    Tanzania\\n1521                    Tanzania\\n1522                    Tanzania\\n1523                    Tanzania\\n1524                    Thailand\\n1525                    Thailand\\n1526                    Thailand\\n1527                    Thailand\\n1528                    Thailand\\n1529                    Thailand\\n1530                    Thailand\\n1531                    Thailand\\n1532                    Thailand\\n1533                    Thailand\\n1534                    Thailand\\n1535                    Thailand\\n1536                        Togo\\n1537                        Togo\\n1538                        Togo\\n1539                        Togo\\n1540                        Togo\\n1541                        Togo\\n1542                        Togo\\n1543                        Togo\\n1544                        Togo\\n1545                        Togo\\n1546                        Togo\\n1547                        Togo\\n1548         Trinidad and Tobago\\n1549         Trinidad and Tobago\\n1550         Trinidad and Tobago\\n1551         Trinidad and Tobago\\n1552         Trinidad and Tobago\\n1553         Trinidad and Tobago\\n1554         Trinidad and Tobago\\n1555         Trinidad and Tobago\\n1556         Trinidad and Tobago\\n1557         Trinidad and Tobago\\n1558         Trinidad and Tobago\\n1559         Trinidad and Tobago\\n1560                     Tunisia\\n1561                     Tunisia\\n1562                     Tunisia\\n1563                     Tunisia\\n1564                     Tunisia\\n1565                     Tunisia\\n1566                     Tunisia\\n1567                     Tunisia\\n1568                     Tunisia\\n1569                     Tunisia\\n1570                     Tunisia\\n1571                     Tunisia\\n1572                      Turkey\\n1573                      Turkey\\n1574                      Turkey\\n1575                      Turkey\\n1576                      Turkey\\n1577                      Turkey\\n1578                      Turkey\\n1579                      Turkey\\n1580                      Turkey\\n1581                      Turkey\\n1582                      Turkey\\n1583                      Turkey\\n1584                      Uganda\\n1585                      Uganda\\n1586                      Uganda\\n1587                      Uganda\\n1588                      Uganda\\n1589                      Uganda\\n1590                      Uganda\\n1591                      Uganda\\n1592                      Uganda\\n1593                      Uganda\\n1594                      Uganda\\n1595                      Uganda\\n1596              United Kingdom\\n1597              United Kingdom\\n1598              United Kingdom\\n1599              United Kingdom\\n1600              United Kingdom\\n1601              United Kingdom\\n1602              United Kingdom\\n1603              United Kingdom\\n1604              United Kingdom\\n1605              United Kingdom\\n1606              United Kingdom\\n1607              United Kingdom\\n1608               United States\\n1609               United States\\n1610               United States\\n1611               United States\\n1612               United States\\n1613               United States\\n1614               United States\\n1615               United States\\n1616               United States\\n1617               United States\\n1618               United States\\n1619               United States\\n1620                     Uruguay\\n1621                     Uruguay\\n1622                     Uruguay\\n1623                     Uruguay\\n1624                     Uruguay\\n1625                     Uruguay\\n1626                     Uruguay\\n1627                     Uruguay\\n1628                     Uruguay\\n1629                     Uruguay\\n1630                     Uruguay\\n1631                     Uruguay\\n1632                   Venezuela\\n1633                   Venezuela\\n1634                   Venezuela\\n1635                   Venezuela\\n1636                   Venezuela\\n1637                   Venezuela\\n1638                   Venezuela\\n1639                   Venezuela\\n1640                   Venezuela\\n1641                   Venezuela\\n1642                   Venezuela\\n1643                   Venezuela\\n1644                     Vietnam\\n1645                     Vietnam\\n1646                     Vietnam\\n1647                     Vietnam\\n1648                     Vietnam\\n1649                     Vietnam\\n1650                     Vietnam\\n1651                     Vietnam\\n1652                     Vietnam\\n1653                     Vietnam\\n1654                     Vietnam\\n1655                     Vietnam\\n1656          West Bank and Gaza\\n1657          West Bank and Gaza\\n1658          West Bank and Gaza\\n1659          West Bank and Gaza\\n1660          West Bank and Gaza\\n1661          West Bank and Gaza\\n1662          West Bank and Gaza\\n1663          West Bank and Gaza\\n1664          West Bank and Gaza\\n1665          West Bank and Gaza\\n1666          West Bank and Gaza\\n1667          West Bank and Gaza\\n1668                 Yemen, Rep.\\n1669                 Yemen, Rep.\\n1670                 Yemen, Rep.\\n1671                 Yemen, Rep.\\n1672                 Yemen, Rep.\\n1673                 Yemen, Rep.\\n1674                 Yemen, Rep.\\n1675                 Yemen, Rep.\\n1676                 Yemen, Rep.\\n1677                 Yemen, Rep.\\n1678                 Yemen, Rep.\\n1679                 Yemen, Rep.\\n1680                      Zambia\\n1681                      Zambia\\n1682                      Zambia\\n1683                      Zambia\\n1684                      Zambia\\n1685                      Zambia\\n1686                      Zambia\\n1687                      Zambia\\n1688                      Zambia\\n1689                      Zambia\\n1690                      Zambia\\n1691                      Zambia\\n1692                    Zimbabwe\\n1693                    Zimbabwe\\n1694                    Zimbabwe\\n1695                    Zimbabwe\\n1696                    Zimbabwe\\n1697                    Zimbabwe\\n1698                    Zimbabwe\\n1699                    Zimbabwe\\n1700                    Zimbabwe\\n1701                    Zimbabwe\\n1702                    Zimbabwe\\n1703                    Zimbabwe\""
      ]
     },
     "execution_count": 62,
     "metadata": {},
     "output_type": "execute_result"
    }
   ],
   "source": [
    "country.to_string()"
   ]
  },
  {
   "cell_type": "code",
   "execution_count": null,
   "metadata": {},
   "outputs": [],
   "source": []
  }
 ],
 "metadata": {
  "kernelspec": {
   "display_name": "Python 3",
   "language": "python",
   "name": "python3"
  },
  "language_info": {
   "codemirror_mode": {
    "name": "ipython",
    "version": 3
   },
   "file_extension": ".py",
   "mimetype": "text/x-python",
   "name": "python",
   "nbconvert_exporter": "python",
   "pygments_lexer": "ipython3",
   "version": "3.8.0"
  }
 },
 "nbformat": 4,
 "nbformat_minor": 4
}
